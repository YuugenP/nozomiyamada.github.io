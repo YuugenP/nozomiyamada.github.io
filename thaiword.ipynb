{
 "nbformat": 4,
 "nbformat_minor": 2,
 "metadata": {
  "language_info": {
   "name": "python",
   "codemirror_mode": {
    "name": "ipython",
    "version": 3
   }
  },
  "orig_nbformat": 2,
  "file_extension": ".py",
  "mimetype": "text/x-python",
  "name": "python",
  "npconvert_exporter": "python",
  "pygments_lexer": "ipython3",
  "version": 3
 },
 "cells": [
  {
   "cell_type": "code",
   "execution_count": 2,
   "metadata": {},
   "outputs": [
    {
     "ename": "JSONDecodeError",
     "evalue": "Expecting value: line 1 column 1 (char 0)",
     "output_type": "error",
     "traceback": [
      "\u001b[0;31m---------------------------------------------------------------------------\u001b[0m",
      "\u001b[0;31mJSONDecodeError\u001b[0m                           Traceback (most recent call last)",
      "\u001b[0;32m<ipython-input-2-f1da95cd957d>\u001b[0m in \u001b[0;36m<module>\u001b[0;34m\u001b[0m\n\u001b[1;32m      1\u001b[0m \u001b[0;32mimport\u001b[0m \u001b[0mrandom\u001b[0m\u001b[0;34m,\u001b[0m \u001b[0mjson\u001b[0m\u001b[0;34m\u001b[0m\u001b[0;34m\u001b[0m\u001b[0m\n\u001b[1;32m      2\u001b[0m \u001b[0;32mwith\u001b[0m \u001b[0mopen\u001b[0m\u001b[0;34m(\u001b[0m\u001b[0;34m'words.json'\u001b[0m\u001b[0;34m)\u001b[0m \u001b[0;32mas\u001b[0m \u001b[0mf\u001b[0m\u001b[0;34m:\u001b[0m\u001b[0;34m\u001b[0m\u001b[0;34m\u001b[0m\u001b[0m\n\u001b[0;32m----> 3\u001b[0;31m     \u001b[0mdic\u001b[0m \u001b[0;34m=\u001b[0m \u001b[0mjson\u001b[0m\u001b[0;34m.\u001b[0m\u001b[0mload\u001b[0m\u001b[0;34m(\u001b[0m\u001b[0mf\u001b[0m\u001b[0;34m)\u001b[0m\u001b[0;34m\u001b[0m\u001b[0;34m\u001b[0m\u001b[0m\n\u001b[0m",
      "\u001b[0;32m~/anaconda3/lib/python3.7/json/__init__.py\u001b[0m in \u001b[0;36mload\u001b[0;34m(fp, cls, object_hook, parse_float, parse_int, parse_constant, object_pairs_hook, **kw)\u001b[0m\n\u001b[1;32m    294\u001b[0m         \u001b[0mcls\u001b[0m\u001b[0;34m=\u001b[0m\u001b[0mcls\u001b[0m\u001b[0;34m,\u001b[0m \u001b[0mobject_hook\u001b[0m\u001b[0;34m=\u001b[0m\u001b[0mobject_hook\u001b[0m\u001b[0;34m,\u001b[0m\u001b[0;34m\u001b[0m\u001b[0;34m\u001b[0m\u001b[0m\n\u001b[1;32m    295\u001b[0m         \u001b[0mparse_float\u001b[0m\u001b[0;34m=\u001b[0m\u001b[0mparse_float\u001b[0m\u001b[0;34m,\u001b[0m \u001b[0mparse_int\u001b[0m\u001b[0;34m=\u001b[0m\u001b[0mparse_int\u001b[0m\u001b[0;34m,\u001b[0m\u001b[0;34m\u001b[0m\u001b[0;34m\u001b[0m\u001b[0m\n\u001b[0;32m--> 296\u001b[0;31m         parse_constant=parse_constant, object_pairs_hook=object_pairs_hook, **kw)\n\u001b[0m\u001b[1;32m    297\u001b[0m \u001b[0;34m\u001b[0m\u001b[0m\n\u001b[1;32m    298\u001b[0m \u001b[0;34m\u001b[0m\u001b[0m\n",
      "\u001b[0;32m~/anaconda3/lib/python3.7/json/__init__.py\u001b[0m in \u001b[0;36mloads\u001b[0;34m(s, encoding, cls, object_hook, parse_float, parse_int, parse_constant, object_pairs_hook, **kw)\u001b[0m\n\u001b[1;32m    346\u001b[0m             \u001b[0mparse_int\u001b[0m \u001b[0;32mis\u001b[0m \u001b[0;32mNone\u001b[0m \u001b[0;32mand\u001b[0m \u001b[0mparse_float\u001b[0m \u001b[0;32mis\u001b[0m \u001b[0;32mNone\u001b[0m \u001b[0;32mand\u001b[0m\u001b[0;34m\u001b[0m\u001b[0;34m\u001b[0m\u001b[0m\n\u001b[1;32m    347\u001b[0m             parse_constant is None and object_pairs_hook is None and not kw):\n\u001b[0;32m--> 348\u001b[0;31m         \u001b[0;32mreturn\u001b[0m \u001b[0m_default_decoder\u001b[0m\u001b[0;34m.\u001b[0m\u001b[0mdecode\u001b[0m\u001b[0;34m(\u001b[0m\u001b[0ms\u001b[0m\u001b[0;34m)\u001b[0m\u001b[0;34m\u001b[0m\u001b[0;34m\u001b[0m\u001b[0m\n\u001b[0m\u001b[1;32m    349\u001b[0m     \u001b[0;32mif\u001b[0m \u001b[0mcls\u001b[0m \u001b[0;32mis\u001b[0m \u001b[0;32mNone\u001b[0m\u001b[0;34m:\u001b[0m\u001b[0;34m\u001b[0m\u001b[0;34m\u001b[0m\u001b[0m\n\u001b[1;32m    350\u001b[0m         \u001b[0mcls\u001b[0m \u001b[0;34m=\u001b[0m \u001b[0mJSONDecoder\u001b[0m\u001b[0;34m\u001b[0m\u001b[0;34m\u001b[0m\u001b[0m\n",
      "\u001b[0;32m~/anaconda3/lib/python3.7/json/decoder.py\u001b[0m in \u001b[0;36mdecode\u001b[0;34m(self, s, _w)\u001b[0m\n\u001b[1;32m    335\u001b[0m \u001b[0;34m\u001b[0m\u001b[0m\n\u001b[1;32m    336\u001b[0m         \"\"\"\n\u001b[0;32m--> 337\u001b[0;31m         \u001b[0mobj\u001b[0m\u001b[0;34m,\u001b[0m \u001b[0mend\u001b[0m \u001b[0;34m=\u001b[0m \u001b[0mself\u001b[0m\u001b[0;34m.\u001b[0m\u001b[0mraw_decode\u001b[0m\u001b[0;34m(\u001b[0m\u001b[0ms\u001b[0m\u001b[0;34m,\u001b[0m \u001b[0midx\u001b[0m\u001b[0;34m=\u001b[0m\u001b[0m_w\u001b[0m\u001b[0;34m(\u001b[0m\u001b[0ms\u001b[0m\u001b[0;34m,\u001b[0m \u001b[0;36m0\u001b[0m\u001b[0;34m)\u001b[0m\u001b[0;34m.\u001b[0m\u001b[0mend\u001b[0m\u001b[0;34m(\u001b[0m\u001b[0;34m)\u001b[0m\u001b[0;34m)\u001b[0m\u001b[0;34m\u001b[0m\u001b[0;34m\u001b[0m\u001b[0m\n\u001b[0m\u001b[1;32m    338\u001b[0m         \u001b[0mend\u001b[0m \u001b[0;34m=\u001b[0m \u001b[0m_w\u001b[0m\u001b[0;34m(\u001b[0m\u001b[0ms\u001b[0m\u001b[0;34m,\u001b[0m \u001b[0mend\u001b[0m\u001b[0;34m)\u001b[0m\u001b[0;34m.\u001b[0m\u001b[0mend\u001b[0m\u001b[0;34m(\u001b[0m\u001b[0;34m)\u001b[0m\u001b[0;34m\u001b[0m\u001b[0;34m\u001b[0m\u001b[0m\n\u001b[1;32m    339\u001b[0m         \u001b[0;32mif\u001b[0m \u001b[0mend\u001b[0m \u001b[0;34m!=\u001b[0m \u001b[0mlen\u001b[0m\u001b[0;34m(\u001b[0m\u001b[0ms\u001b[0m\u001b[0;34m)\u001b[0m\u001b[0;34m:\u001b[0m\u001b[0;34m\u001b[0m\u001b[0;34m\u001b[0m\u001b[0m\n",
      "\u001b[0;32m~/anaconda3/lib/python3.7/json/decoder.py\u001b[0m in \u001b[0;36mraw_decode\u001b[0;34m(self, s, idx)\u001b[0m\n\u001b[1;32m    353\u001b[0m             \u001b[0mobj\u001b[0m\u001b[0;34m,\u001b[0m \u001b[0mend\u001b[0m \u001b[0;34m=\u001b[0m \u001b[0mself\u001b[0m\u001b[0;34m.\u001b[0m\u001b[0mscan_once\u001b[0m\u001b[0;34m(\u001b[0m\u001b[0ms\u001b[0m\u001b[0;34m,\u001b[0m \u001b[0midx\u001b[0m\u001b[0;34m)\u001b[0m\u001b[0;34m\u001b[0m\u001b[0;34m\u001b[0m\u001b[0m\n\u001b[1;32m    354\u001b[0m         \u001b[0;32mexcept\u001b[0m \u001b[0mStopIteration\u001b[0m \u001b[0;32mas\u001b[0m \u001b[0merr\u001b[0m\u001b[0;34m:\u001b[0m\u001b[0;34m\u001b[0m\u001b[0;34m\u001b[0m\u001b[0m\n\u001b[0;32m--> 355\u001b[0;31m             \u001b[0;32mraise\u001b[0m \u001b[0mJSONDecodeError\u001b[0m\u001b[0;34m(\u001b[0m\u001b[0;34m\"Expecting value\"\u001b[0m\u001b[0;34m,\u001b[0m \u001b[0ms\u001b[0m\u001b[0;34m,\u001b[0m \u001b[0merr\u001b[0m\u001b[0;34m.\u001b[0m\u001b[0mvalue\u001b[0m\u001b[0;34m)\u001b[0m \u001b[0;32mfrom\u001b[0m \u001b[0;32mNone\u001b[0m\u001b[0;34m\u001b[0m\u001b[0;34m\u001b[0m\u001b[0m\n\u001b[0m\u001b[1;32m    356\u001b[0m         \u001b[0;32mreturn\u001b[0m \u001b[0mobj\u001b[0m\u001b[0;34m,\u001b[0m \u001b[0mend\u001b[0m\u001b[0;34m\u001b[0m\u001b[0;34m\u001b[0m\u001b[0m\n",
      "\u001b[0;31mJSONDecodeError\u001b[0m: Expecting value: line 1 column 1 (char 0)"
     ]
    }
   ],
   "source": [
    "import random, json\n",
    "with open('words.json') as f:\n",
    "    dic = json.load(f)"
   ]
  },
  {
   "cell_type": "markdown",
   "execution_count": null,
   "metadata": {},
   "outputs": [],
   "source": [
    "# make all word list & random select"
   ]
  },
  {
   "cell_type": "code",
   "execution_count": 28,
   "metadata": {},
   "outputs": [],
   "source": [
    "all_item = []\n",
    "for genre, words in dic.items():\n",
    "    for word in words:\n",
    "        all_item.append([genre, word])"
   ]
  },
  {
   "cell_type": "code",
   "execution_count": 29,
   "metadata": {},
   "outputs": [
    {
     "name": "stdout",
     "output_type": "stream",
     "text": "บุคคลสำคัญ\nณเดชน์ คูกิมิยะ\n"
    }
   ],
   "source": [
    "genre, word = random.choice(all_item)\n",
    "print(genre)\n",
    "print(word)"
   ]
  },
  {
   "cell_type": "markdown",
   "execution_count": null,
   "metadata": {},
   "outputs": [],
   "source": [
    "# append item"
   ]
  },
  {
   "cell_type": "code",
   "execution_count": 17,
   "metadata": {},
   "outputs": [],
   "source": [
    "def add(**kargs):\n",
    "    for key, value in kargs.items():\n",
    "        if key in dic:\n",
    "            dic[key].append(value)\n",
    "        else:\n",
    "            dic[key] = [value]\n",
    "def rewrite():\n",
    "    with open('words.json', 'w') as f:\n",
    "        json.dump(dic, f, indent=4, ensure_ascii=False)"
   ]
  },
  {
   "cell_type": "code",
   "execution_count": 14,
   "metadata": {},
   "outputs": [],
   "source": [
    "add(ชื่อสัตว์='ปลาปักเป้า')"
   ]
  },
  {
   "cell_type": "code",
   "execution_count": 21,
   "metadata": {},
   "outputs": [],
   "source": [
    "add(ท่องเที่ยว = 'ไต้หวั่น')"
   ]
  },
  {
   "cell_type": "code",
   "execution_count": 18,
   "metadata": {},
   "outputs": [],
   "source": [
    "add(อาชีพ='อัศวิน')\n",
    "rewrite()"
   ]
  },
  {
   "cell_type": "code",
   "execution_count": 24,
   "metadata": {},
   "outputs": [],
   "source": [
    "rewrite()"
   ]
  },
  {
   "cell_type": "code",
   "execution_count": 23,
   "metadata": {},
   "outputs": [],
   "source": [
    "add(อาชญากรรม='แหกคุก')"
   ]
  },
  {
   "cell_type": "markdown",
   "execution_count": null,
   "metadata": {},
   "outputs": [],
   "source": [
    "# rewrite"
   ]
  },
  {
   "cell_type": "code",
   "execution_count": null,
   "metadata": {},
   "outputs": [],
   "source": []
  },
  {
   "cell_type": "code",
   "execution_count": 37,
   "metadata": {},
   "outputs": [],
   "source": [
    "with open('words.json', 'w') as f:\n",
    "    json.dump(dic, f, indent=4, ensure_ascii=False)"
   ]
  },
  {
   "cell_type": "code",
   "execution_count": null,
   "metadata": {},
   "outputs": [],
   "source": []
  },
  {
   "cell_type": "code",
   "execution_count": null,
   "metadata": {},
   "outputs": [],
   "source": []
  },
  {
   "cell_type": "code",
   "execution_count": null,
   "metadata": {},
   "outputs": [],
   "source": []
  },
  {
   "cell_type": "code",
   "execution_count": null,
   "metadata": {},
   "outputs": [],
   "source": [
    "with open('words.json', 'w') as f:\n",
    "    json.dump(dic, f, indent=4, ensure_ascii=False)"
   ]
  },
  {
   "cell_type": "code",
   "execution_count": null,
   "metadata": {},
   "outputs": [],
   "source": []
  },
  {
   "cell_type": "code",
   "execution_count": 39,
   "metadata": {},
   "outputs": [],
   "source": [
    "with open('words.json', 'w') as f:\n",
    "    json.dump(dic, f, indent=4, ensure_ascii=False)"
   ]
  },
  {
   "cell_type": "code",
   "execution_count": null,
   "metadata": {},
   "outputs": [],
   "source": []
  },
  {
   "cell_type": "code",
   "execution_count": null,
   "metadata": {},
   "outputs": [],
   "source": []
  },
  {
   "cell_type": "code",
   "execution_count": 6,
   "metadata": {},
   "outputs": [],
   "source": [
    "dic = {\n",
    "    'อาหารไทย':['ส้มตำ','ผัดไทย','ต้มยำกุ้ง','แกงเขียวหวาน','ปอเปี๊ยะทอด','ต้มข่าไก่','ก๋วยเตี๋ยว','ข้าวซอย','ข้าวเหนียวมะม่วง','ปูผัดผงกะหรี่',\n",
    "            'MK','ชานมไข่มุก'],\n",
    "\n",
    "    'ท่องเที่ยว':['วัดโพธิ์','วัดพระแก้ว','เยาวราช','เชียงใหม่','อยุธยา','พัทยา','ภูเก็ต','สุโขทัย','สยาม','พร้อมพงษ์',\n",
    "            'เชียงราย','ตลาดรถไฟ','ถนนพัฒน์พงษ์','','','',],\n",
    "\n",
    "    'บุคคล':['รัชกาลที่ ๙','ทักษิณ ชินวัตร','รัชกาลที่ ๕','พ่อขุนรามคำแหงมหาราช','อภิสิทธิ์ เวชชาชีวะ','ประยุทธ์ จันทร์โอชา','ปรีดี พนมยงค์','ณเดชน์ คูกิมิยะ','อภิชาติพงศ์ วีระเศรษฐกุล','อาทิวราห์ คงมาลัย',\n",
    "            'อุรัสยา เสปอร์บันด์'],\n",
    "\n",
    "    'กริยาทั่วไป':['ตะปบ','เด็ดดอกไม้','แย่งอำนาจ','ฟุ่มเฟือย','คุกคาม','ก้าวก่าย','เสี่ยงทาย','ขึ้นรา','ติดกับดัก','ถ่ายโลหิต',\n",
    "            '','','','สร้างสรรค์','ปลุกระดม','สอดแนม','ลักพาตัว','ลอบฆ่า',],\n",
    "\n",
    "    'คำนามทั่วไป':['กระจาด','พิธีกร','คุณหนู','อุดมคติ','ค่าสินสอด','ค่าปรับ','บุรุษไปรษณีย์','นางเงือก','ฐานทัพ','',\n",
    "            'หนังสือรับรอง','บานพับ','ไม้จิ้มฟัน','ผจญภัย','กุลสตรี','ตลิ่ง','กังหันลม','','','','','','','','',],\n",
    "\n",
    "    'คำคุณศัพท์ทั่วไป':['กระปรี้กระเปร่า','','','','','','','','','','','','','','','','','','','','','','','','',],\n",
    "\n",
    "    'เครื่องดื่ม':['น้ำอัดลม','','','','','','','','',''\n",
    "            ,'','','','','','',''],\n",
    "\n",
    "    'เครื่องมือ':['ค้องเหล็ก','ไฟฉาย','ขี้ริ้ว','หลอดแก้ว','','','','','',''\n",
    "            ,'','','','ไขควงปากแบน','ขาตั้ง','ลำโพง',''],\n",
    "\n",
    "    'อาชีพ':['นักปราชญ์','ไฟฉาย','ขี้ริ้ว','','','','','','',''\n",
    "            ,'','','','','ขาตั้ง','ลำโพง',''],\n",
    "    \n",
    "    \n",
    "    'แพทย์':['ยาปฏิชีวนะ','การุณยฆาต','ชันสูตรพลิกศพ','ใบสั่งยา','การฟอกเลือด','เลือดตกใน','ตากุ้งยิง','','','','','','','','','','','','','','',],\n",
    "    'ชีวะ':['การกลายพันธุ์','พันธุกรรม','ก้าน','ใบสั่งยา','การฟอกเลือด','เลือดตกใน','ตากุ้งยิง','สัญชาตญาณ','','','','','','','','','','','','','',],\n",
    "    'เคมี':['สนิม','ตกตะกอน','ระเหย','สารกันบูด','ยาฆ่าแมลง','ถลุงแร่','ตะกั่ว','กระเบื้อง','','','','','','','','','','','',],\n",
    "    'ฟิสิกส์':['สนิม','คลื่นกระแทก','ความต่างศักย์','กัมมันตภาพรังสี','','','','','','','','','','','','','','','','',],\n",
    "    'คณิต':['เส้นผ่านศูนย์กลาง','คลื่นกระแทก','','','','','','','','','','','','','','','','','','',],\n",
    "    'ชื่อสัตว์':['นกอินทรี','จิ้งจก','ปลากระเบน','ตั๊กแตนตำข้าว','นกยูง','','','','','','','','','','','','',],\n",
    "    'ชื่อวิชา':['มานุษยวิทยา','ตรรกศาสตร์','ฟิสิกส์','เคมี','ภาษาศาสตร์','ปรัชญา','เรขาคณิต','ทัศนศาสตร์','','','','','','','','','',],\n",
    "    \n",
    "    'ผัก/วัดถุดิบอาหาร':['สาหร่าย','','','','','','','','',''\n",
    "            ,'','','','','','',''],\n",
    "\n",
    "    'สังคม/เศรษฐกิจ':['ตลาดหลักทรัพย์','นักค้าเงิน','ประกวดราคา','ผู้อุปถัมภ์','ชลประทาน','ขายปลีก','งานนิทรรศการ','สวัสดิการ','','',\n",
    "            'เงินบำนาญ','อัตราเฉลี่ยเด็กเกิดใหม่','สรรพากร','ค่าเสียหาย','ผ่อนจ่าย','ห้างหุ้นส่วนจำกัด','เงินสำรอง','','','',''],\n",
    "    \n",
    "    'อาชญากรรม':['สลัดอากาศ','หมิ่นพระบรมเดชานุภาพ','ขี้ริ้ว','','','','','','',''\n",
    "            ,'','','','พ้นผิด','ขาตั้ง','ลำโพง','เงินค่าไถ่'],\n",
    "    \n",
    "    'การเมือง':['ตำรวจสันติบาล','พสกนิกร','องคมนตรี','เนรเทศ','','สมบูรณาญาสิทธิราชย์','','','','','','','','','','','','','','','',''],\n",
    "    'นิสัย':['ลิ้นจระเข้','','','','','','','','','','','','','','','','','','','','',''],\n",
    "    'นานาชาติ':['สมัชชาใหญ่แห่งสหประชาชาติ','สนธิสัญญา','','','','','','','','','','','','','','','','','',''],\n",
    "    'ศาสนา':['ฆราวาส','บิณฑบาต','จิตกาธาน','คัมภีร์ไบเบิล','กิเลสตัณหา','ศาสนูปถัมภก','พระภูมิเจ้าที่','พระอรหันต์','','','',]\n",
    "}"
   ]
  },
  {
   "cell_type": "code",
   "execution_count": 8,
   "metadata": {},
   "outputs": [],
   "source": [
    "for d in dic.values():\n",
    "    while '' in d:\n",
    "        d.remove('')"
   ]
  },
  {
   "cell_type": "code",
   "execution_count": 9,
   "metadata": {},
   "outputs": [
    {
     "data": {
      "text/plain": "{'อาหารไทย': ['ส้มตำ',\n  'ผัดไทย',\n  'ต้มยำกุ้ง',\n  'แกงเขียวหวาน',\n  'ปอเปี๊ยะทอด',\n  'ต้มข่าไก่',\n  'ก๋วยเตี๋ยว',\n  'ข้าวซอย',\n  'ข้าวเหนียวมะม่วง',\n  'ปูผัดผงกะหรี่',\n  'MK',\n  'ชานมไข่มุก'],\n 'ท่องเที่ยว': ['วัดโพธิ์',\n  'วัดพระแก้ว',\n  'เยาวราช',\n  'เชียงใหม่',\n  'อยุธยา',\n  'พัทยา',\n  'ภูเก็ต',\n  'สุโขทัย',\n  'สยาม',\n  'พร้อมพงษ์',\n  'เชียงราย',\n  'ตลาดรถไฟ',\n  'ถนนพัฒน์พงษ์'],\n 'บุคคล': ['รัชกาลที่ ๙',\n  'ทักษิณ ชินวัตร',\n  'รัชกาลที่ ๕',\n  'พ่อขุนรามคำแหงมหาราช',\n  'อภิสิทธิ์ เวชชาชีวะ',\n  'ประยุทธ์ จันทร์โอชา',\n  'ปรีดี พนมยงค์',\n  'ณเดชน์ คูกิมิยะ',\n  'อภิชาติพงศ์ วีระเศรษฐกุล',\n  'อาทิวราห์ คงมาลัย',\n  'อุรัสยา เสปอร์บันด์'],\n 'กริยาทั่วไป': ['ตะปบ',\n  'เด็ดดอกไม้',\n  'แย่งอำนาจ',\n  'ฟุ่มเฟือย',\n  'คุกคาม',\n  'ก้าวก่าย',\n  'เสี่ยงทาย',\n  'ขึ้นรา',\n  'ติดกับดัก',\n  'ถ่ายโลหิต',\n  'สร้างสรรค์',\n  'ปลุกระดม',\n  'สอดแนม',\n  'ลักพาตัว',\n  'ลอบฆ่า'],\n 'คำนามทั่วไป': ['กระจาด',\n  'พิธีกร',\n  'คุณหนู',\n  'อุดมคติ',\n  'ค่าสินสอด',\n  'ค่าปรับ',\n  'บุรุษไปรษณีย์',\n  'นางเงือก',\n  'ฐานทัพ',\n  'หนังสือรับรอง',\n  'บานพับ',\n  'ไม้จิ้มฟัน',\n  'ผจญภัย',\n  'กุลสตรี',\n  'ตลิ่ง',\n  'กังหันลม'],\n 'คำคุณศัพท์ทั่วไป': ['กระปรี้กระเปร่า'],\n 'เครื่องดื่ม': ['น้ำอัดลม'],\n 'เครื่องมือ': ['ค้องเหล็ก',\n  'ไฟฉาย',\n  'ขี้ริ้ว',\n  'หลอดแก้ว',\n  'ไขควงปากแบน',\n  'ขาตั้ง',\n  'ลำโพง'],\n 'อาชีพ': ['นักปราชญ์', 'ไฟฉาย', 'ขี้ริ้ว', 'ขาตั้ง', 'ลำโพง'],\n 'แพทย์': ['ยาปฏิชีวนะ',\n  'การุณยฆาต',\n  'ชันสูตรพลิกศพ',\n  'ใบสั่งยา',\n  'การฟอกเลือด',\n  'เลือดตกใน',\n  'ตากุ้งยิง'],\n 'ชีวะ': ['การกลายพันธุ์',\n  'พันธุกรรม',\n  'ก้าน',\n  'ใบสั่งยา',\n  'การฟอกเลือด',\n  'เลือดตกใน',\n  'ตากุ้งยิง',\n  'สัญชาตญาณ'],\n 'เคมี': ['สนิม',\n  'ตกตะกอน',\n  'ระเหย',\n  'สารกันบูด',\n  'ยาฆ่าแมลง',\n  'ถลุงแร่',\n  'ตะกั่ว',\n  'กระเบื้อง'],\n 'ฟิสิกส์': ['สนิม', 'คลื่นกระแทก', 'ความต่างศักย์', 'กัมมันตภาพรังสี'],\n 'คณิต': ['เส้นผ่านศูนย์กลาง', 'คลื่นกระแทก'],\n 'ชื่อสัตว์': ['นกอินทรี', 'จิ้งจก', 'ปลากระเบน', 'ตั๊กแตนตำข้าว', 'นกยูง'],\n 'ชื่อวิชา': ['มานุษยวิทยา',\n  'ตรรกศาสตร์',\n  'ฟิสิกส์',\n  'เคมี',\n  'ภาษาศาสตร์',\n  'ปรัชญา',\n  'เรขาคณิต',\n  'ทัศนศาสตร์'],\n 'ผัก/วัดถุดิบอาหาร': ['สาหร่าย'],\n 'สังคม/เศรษฐกิจ': ['ตลาดหลักทรัพย์',\n  'นักค้าเงิน',\n  'ประกวดราคา',\n  'ผู้อุปถัมภ์',\n  'ชลประทาน',\n  'ขายปลีก',\n  'งานนิทรรศการ',\n  'สวัสดิการ',\n  'เงินบำนาญ',\n  'อัตราเฉลี่ยเด็กเกิดใหม่',\n  'สรรพากร',\n  'ค่าเสียหาย',\n  'ผ่อนจ่าย',\n  'ห้างหุ้นส่วนจำกัด',\n  'เงินสำรอง'],\n 'อาชญากรรม': ['สลัดอากาศ',\n  'หมิ่นพระบรมเดชานุภาพ',\n  'ขี้ริ้ว',\n  'พ้นผิด',\n  'ขาตั้ง',\n  'ลำโพง',\n  'เงินค่าไถ่'],\n 'การเมือง': ['ตำรวจสันติบาล',\n  'พสกนิกร',\n  'องคมนตรี',\n  'เนรเทศ',\n  'สมบูรณาญาสิทธิราชย์'],\n 'นิสัย': ['ลิ้นจระเข้'],\n 'นานาชาติ': ['สมัชชาใหญ่แห่งสหประชาชาติ', 'สนธิสัญญา'],\n 'ศาสนา': ['ฆราวาส',\n  'บิณฑบาต',\n  'จิตกาธาน',\n  'คัมภีร์ไบเบิล',\n  'กิเลสตัณหา',\n  'ศาสนูปถัมภก',\n  'พระภูมิเจ้าที่',\n  'พระอรหันต์']}"
     },
     "execution_count": 9,
     "metadata": {},
     "output_type": "execute_result"
    }
   ],
   "source": [
    "dic"
   ]
  },
  {
   "cell_type": "code",
   "execution_count": null,
   "metadata": {},
   "outputs": [],
   "source": []
  }
 ]
}