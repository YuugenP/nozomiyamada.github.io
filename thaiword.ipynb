{
 "cells": [
  {
   "cell_type": "markdown",
   "metadata": {},
   "source": [
    "# make all word list & random select"
   ]
  },
  {
   "cell_type": "code",
   "execution_count": 1,
   "metadata": {},
   "outputs": [],
   "source": [
    "import random, json\n",
    "import pandas as pd\n",
    "import numpy as np\n",
    "with open('js/words.js') as f:\n",
    "    next(f)\n",
    "    dic = json.load(f)"
   ]
  },
  {
   "cell_type": "code",
   "execution_count": 37,
   "metadata": {},
   "outputs": [
    {
     "name": "stdout",
     "output_type": "stream",
     "text": [
      "560\n"
     ]
    }
   ],
   "source": [
    "all_item = []\n",
    "for genre, words in dic.items():\n",
    "    for word in words:\n",
    "        all_item.append([genre, word])\n",
    "print(len(all_item))\n",
    "\n",
    "allword = [x[1] for x in all_item]\n",
    "allword_set = set(allword)\n",
    "for w in allword:\n",
    "    if allword.count(w) > 1:\n",
    "            print(w)"
   ]
  },
  {
   "cell_type": "markdown",
   "metadata": {},
   "source": [
    "# rewrite"
   ]
  },
  {
   "cell_type": "code",
   "execution_count": 33,
   "metadata": {},
   "outputs": [],
   "source": [
    "for v in dic.values():\n",
    "    v.sort()"
   ]
  },
  {
   "cell_type": "code",
   "execution_count": 34,
   "metadata": {},
   "outputs": [],
   "source": [
    "with open('words.js', 'w') as f:\n",
    "    f.write(\"const word_dic = \\n\")\n",
    "    json.dump(dic, f, indent=4, ensure_ascii=False)"
   ]
  },
  {
   "cell_type": "code",
   "execution_count": null,
   "metadata": {},
   "outputs": [],
   "source": []
  },
  {
   "cell_type": "code",
   "execution_count": null,
   "metadata": {},
   "outputs": [],
   "source": []
  },
  {
   "cell_type": "code",
   "execution_count": null,
   "metadata": {},
   "outputs": [],
   "source": []
  },
  {
   "cell_type": "code",
   "execution_count": 4,
   "metadata": {},
   "outputs": [],
   "source": [
    "import numpy as np\n",
    "x = np.linspace(-2,2,5000)\n",
    "y = np.sqrt((4-x**2)/2)"
   ]
  },
  {
   "cell_type": "code",
   "execution_count": 13,
   "metadata": {},
   "outputs": [],
   "source": [
    "M, m = 0, 0\n",
    "z = []\n",
    "for i, j in zip(x,y):\n",
    "    z1 = i**3 + j**3\n",
    "    z2 = i**3 + (-j)**3\n",
    "    z.append(z1)\n",
    "    if z1 > M:\n",
    "        M = z1; L = (i,j)\n",
    "    if z2 > M:\n",
    "        M = z2; L = (i,j)\n",
    "    if z1 < m:\n",
    "        m = z1; l = (i,j)\n",
    "    if z2 < m:\n",
    "        m = z2; l = (i,j)"
   ]
  },
  {
   "cell_type": "code",
   "execution_count": 10,
   "metadata": {},
   "outputs": [
    {
     "name": "stdout",
     "output_type": "stream",
     "text": [
      "8.0 -8.0\n",
      "(2.0, 0.0) (-2.0, 0.0)\n"
     ]
    }
   ],
   "source": [
    "print(M, m)\n",
    "print(L, l)"
   ]
  },
  {
   "cell_type": "code",
   "execution_count": 11,
   "metadata": {},
   "outputs": [],
   "source": [
    "import matplotlib.pyplot as plt"
   ]
  },
  {
   "cell_type": "code",
   "execution_count": 19,
   "metadata": {},
   "outputs": [
    {
     "data": {
      "image/png": "[encoded data removed]",
      "image/svg+xml": "<?xml version=\"1.0\" encoding=\"utf-8\" standalone=\"no\"?>\n<!DOCTYPE svg PUBLIC \"-//W3C//DTD SVG 1.1//EN\"\n  \"http://www.w3.org/Graphics/SVG/1.1/DTD/svg11.dtd\">\n<!-- Created with matplotlib (https://matplotlib.org/) -->\n<svg height=\"248.518125pt\" version=\"1.1\" viewBox=\"0 0 370.942187 248.518125\" width=\"370.942187pt\" xmlns=\"http://www.w3.org/2000/svg\" xmlns:xlink=\"http://www.w3.org/1999/xlink\">\n <defs>\n  <style type=\"text/css\">\n*{stroke-linecap:butt;stroke-linejoin:round;}\n  </style>\n </defs>\n <g id=\"figure_1\">\n  <g id=\"patch_1\">\n   <path d=\"M 0 248.518125 \nL 370.942187 248.518125 \nL 370.942187 0 \nL 0 0 \nz\n\"/>\n  </g>\n  <g id=\"axes_1\">\n   <g id=\"patch_2\">\n    <path d=\"M 28.942188 224.64 \nL 363.742188 224.64 \nL 363.742188 7.2 \nL 28.942188 7.2 \nz\n\"/>\n   </g>\n   <g id=\"matplotlib.axis_1\">\n    <g id=\"xtick_1\">\n     <g id=\"line2d_1\">\n      <defs>\n       <path d=\"M 0 0 \nL 0 3.5 \n\" id=\"m9bc83cdf01\" style=\"stroke:#ffffff;stroke-width:0.8;\"/>\n      </defs>\n      <g>\n       <use style=\"fill:#ffffff;stroke:#ffffff;stroke-width:0.8;\" x=\"44.160369\" xlink:href=\"#m9bc83cdf01\" y=\"224.64\"/>\n      </g>\n     </g>\n     <g id=\"text_1\">\n      <!-- 0.0 -->\n      <defs>\n       <path d=\"M 31.78125 66.40625 \nQ 24.171875 66.40625 20.328125 58.90625 \nQ 16.5 51.421875 16.5 36.375 \nQ 16.5 21.390625 20.328125 13.890625 \nQ 24.171875 6.390625 31.78125 6.390625 \nQ 39.453125 6.390625 43.28125 13.890625 \nQ 47.125 21.390625 47.125 36.375 \nQ 47.125 51.421875 43.28125 58.90625 \nQ 39.453125 66.40625 31.78125 66.40625 \nz\nM 31.78125 74.21875 \nQ 44.046875 74.21875 50.515625 64.515625 \nQ 56.984375 54.828125 56.984375 36.375 \nQ 56.984375 17.96875 50.515625 8.265625 \nQ 44.046875 -1.421875 31.78125 -1.421875 \nQ 19.53125 -1.421875 13.0625 8.265625 \nQ 6.59375 17.96875 6.59375 36.375 \nQ 6.59375 54.828125 13.0625 64.515625 \nQ 19.53125 74.21875 31.78125 74.21875 \nz\n\" id=\"DejaVuSans-48\"/>\n       <path d=\"M 10.6875 12.40625 \nL 21 12.40625 \nL 21 0 \nL 10.6875 0 \nz\n\" id=\"DejaVuSans-46\"/>\n      </defs>\n      <g style=\"fill:#ffffff;\" transform=\"translate(36.208807 239.238437)scale(0.1 -0.1)\">\n       <use xlink:href=\"#DejaVuSans-48\"/>\n       <use x=\"63.623047\" xlink:href=\"#DejaVuSans-46\"/>\n       <use x=\"95.410156\" xlink:href=\"#DejaVuSans-48\"/>\n      </g>\n     </g>\n    </g>\n    <g id=\"xtick_2\">\n     <g id=\"line2d_2\">\n      <g>\n       <use style=\"fill:#ffffff;stroke:#ffffff;stroke-width:0.8;\" x=\"87.203888\" xlink:href=\"#m9bc83cdf01\" y=\"224.64\"/>\n      </g>\n     </g>\n     <g id=\"text_2\">\n      <!-- 0.2 -->\n      <defs>\n       <path d=\"M 19.1875 8.296875 \nL 53.609375 8.296875 \nL 53.609375 0 \nL 7.328125 0 \nL 7.328125 8.296875 \nQ 12.9375 14.109375 22.625 23.890625 \nQ 32.328125 33.6875 34.8125 36.53125 \nQ 39.546875 41.84375 41.421875 45.53125 \nQ 43.3125 49.21875 43.3125 52.78125 \nQ 43.3125 58.59375 39.234375 62.25 \nQ 35.15625 65.921875 28.609375 65.921875 \nQ 23.96875 65.921875 18.8125 64.3125 \nQ 13.671875 62.703125 7.8125 59.421875 \nL 7.8125 69.390625 \nQ 13.765625 71.78125 18.9375 73 \nQ 24.125 74.21875 28.421875 74.21875 \nQ 39.75 74.21875 46.484375 68.546875 \nQ 53.21875 62.890625 53.21875 53.421875 \nQ 53.21875 48.921875 51.53125 44.890625 \nQ 49.859375 40.875 45.40625 35.40625 \nQ 44.1875 33.984375 37.640625 27.21875 \nQ 31.109375 20.453125 19.1875 8.296875 \nz\n\" id=\"DejaVuSans-50\"/>\n      </defs>\n      <g style=\"fill:#ffffff;\" transform=\"translate(79.252326 239.238437)scale(0.1 -0.1)\">\n       <use xlink:href=\"#DejaVuSans-48\"/>\n       <use x=\"63.623047\" xlink:href=\"#DejaVuSans-46\"/>\n       <use x=\"95.410156\" xlink:href=\"#DejaVuSans-50\"/>\n      </g>\n     </g>\n    </g>\n    <g id=\"xtick_3\">\n     <g id=\"line2d_3\">\n      <g>\n       <use style=\"fill:#ffffff;stroke:#ffffff;stroke-width:0.8;\" x=\"130.247408\" xlink:href=\"#m9bc83cdf01\" y=\"224.64\"/>\n      </g>\n     </g>\n     <g id=\"text_3\">\n      <!-- 0.4 -->\n      <defs>\n       <path d=\"M 37.796875 64.3125 \nL 12.890625 25.390625 \nL 37.796875 25.390625 \nz\nM 35.203125 72.90625 \nL 47.609375 72.90625 \nL 47.609375 25.390625 \nL 58.015625 25.390625 \nL 58.015625 17.1875 \nL 47.609375 17.1875 \nL 47.609375 0 \nL 37.796875 0 \nL 37.796875 17.1875 \nL 4.890625 17.1875 \nL 4.890625 26.703125 \nz\n\" id=\"DejaVuSans-52\"/>\n      </defs>\n      <g style=\"fill:#ffffff;\" transform=\"translate(122.295845 239.238437)scale(0.1 -0.1)\">\n       <use xlink:href=\"#DejaVuSans-48\"/>\n       <use x=\"63.623047\" xlink:href=\"#DejaVuSans-46\"/>\n       <use x=\"95.410156\" xlink:href=\"#DejaVuSans-52\"/>\n      </g>\n     </g>\n    </g>\n    <g id=\"xtick_4\">\n     <g id=\"line2d_4\">\n      <g>\n       <use style=\"fill:#ffffff;stroke:#ffffff;stroke-width:0.8;\" x=\"173.290927\" xlink:href=\"#m9bc83cdf01\" y=\"224.64\"/>\n      </g>\n     </g>\n     <g id=\"text_4\">\n      <!-- 0.6 -->\n      <defs>\n       <path d=\"M 33.015625 40.375 \nQ 26.375 40.375 22.484375 35.828125 \nQ 18.609375 31.296875 18.609375 23.390625 \nQ 18.609375 15.53125 22.484375 10.953125 \nQ 26.375 6.390625 33.015625 6.390625 \nQ 39.65625 6.390625 43.53125 10.953125 \nQ 47.40625 15.53125 47.40625 23.390625 \nQ 47.40625 31.296875 43.53125 35.828125 \nQ 39.65625 40.375 33.015625 40.375 \nz\nM 52.59375 71.296875 \nL 52.59375 62.3125 \nQ 48.875 64.0625 45.09375 64.984375 \nQ 41.3125 65.921875 37.59375 65.921875 \nQ 27.828125 65.921875 22.671875 59.328125 \nQ 17.53125 52.734375 16.796875 39.40625 \nQ 19.671875 43.65625 24.015625 45.921875 \nQ 28.375 48.1875 33.59375 48.1875 \nQ 44.578125 48.1875 50.953125 41.515625 \nQ 57.328125 34.859375 57.328125 23.390625 \nQ 57.328125 12.15625 50.6875 5.359375 \nQ 44.046875 -1.421875 33.015625 -1.421875 \nQ 20.359375 -1.421875 13.671875 8.265625 \nQ 6.984375 17.96875 6.984375 36.375 \nQ 6.984375 53.65625 15.1875 63.9375 \nQ 23.390625 74.21875 37.203125 74.21875 \nQ 40.921875 74.21875 44.703125 73.484375 \nQ 48.484375 72.75 52.59375 71.296875 \nz\n\" id=\"DejaVuSans-54\"/>\n      </defs>\n      <g style=\"fill:#ffffff;\" transform=\"translate(165.339364 239.238437)scale(0.1 -0.1)\">\n       <use xlink:href=\"#DejaVuSans-48\"/>\n       <use x=\"63.623047\" xlink:href=\"#DejaVuSans-46\"/>\n       <use x=\"95.410156\" xlink:href=\"#DejaVuSans-54\"/>\n      </g>\n     </g>\n    </g>\n    <g id=\"xtick_5\">\n     <g id=\"line2d_5\">\n      <g>\n       <use style=\"fill:#ffffff;stroke:#ffffff;stroke-width:0.8;\" x=\"216.334446\" xlink:href=\"#m9bc83cdf01\" y=\"224.64\"/>\n      </g>\n     </g>\n     <g id=\"text_5\">\n      <!-- 0.8 -->\n      <defs>\n       <path d=\"M 31.78125 34.625 \nQ 24.75 34.625 20.71875 30.859375 \nQ 16.703125 27.09375 16.703125 20.515625 \nQ 16.703125 13.921875 20.71875 10.15625 \nQ 24.75 6.390625 31.78125 6.390625 \nQ 38.8125 6.390625 42.859375 10.171875 \nQ 46.921875 13.96875 46.921875 20.515625 \nQ 46.921875 27.09375 42.890625 30.859375 \nQ 38.875 34.625 31.78125 34.625 \nz\nM 21.921875 38.8125 \nQ 15.578125 40.375 12.03125 44.71875 \nQ 8.5 49.078125 8.5 55.328125 \nQ 8.5 64.0625 14.71875 69.140625 \nQ 20.953125 74.21875 31.78125 74.21875 \nQ 42.671875 74.21875 48.875 69.140625 \nQ 55.078125 64.0625 55.078125 55.328125 \nQ 55.078125 49.078125 51.53125 44.71875 \nQ 48 40.375 41.703125 38.8125 \nQ 48.828125 37.15625 52.796875 32.3125 \nQ 56.78125 27.484375 56.78125 20.515625 \nQ 56.78125 9.90625 50.3125 4.234375 \nQ 43.84375 -1.421875 31.78125 -1.421875 \nQ 19.734375 -1.421875 13.25 4.234375 \nQ 6.78125 9.90625 6.78125 20.515625 \nQ 6.78125 27.484375 10.78125 32.3125 \nQ 14.796875 37.15625 21.921875 38.8125 \nz\nM 18.3125 54.390625 \nQ 18.3125 48.734375 21.84375 45.5625 \nQ 25.390625 42.390625 31.78125 42.390625 \nQ 38.140625 42.390625 41.71875 45.5625 \nQ 45.3125 48.734375 45.3125 54.390625 \nQ 45.3125 60.0625 41.71875 63.234375 \nQ 38.140625 66.40625 31.78125 66.40625 \nQ 25.390625 66.40625 21.84375 63.234375 \nQ 18.3125 60.0625 18.3125 54.390625 \nz\n\" id=\"DejaVuSans-56\"/>\n      </defs>\n      <g style=\"fill:#ffffff;\" transform=\"translate(208.382883 239.238437)scale(0.1 -0.1)\">\n       <use xlink:href=\"#DejaVuSans-48\"/>\n       <use x=\"63.623047\" xlink:href=\"#DejaVuSans-46\"/>\n       <use x=\"95.410156\" xlink:href=\"#DejaVuSans-56\"/>\n      </g>\n     </g>\n    </g>\n    <g id=\"xtick_6\">\n     <g id=\"line2d_6\">\n      <g>\n       <use style=\"fill:#ffffff;stroke:#ffffff;stroke-width:0.8;\" x=\"259.377965\" xlink:href=\"#m9bc83cdf01\" y=\"224.64\"/>\n      </g>\n     </g>\n     <g id=\"text_6\">\n      <!-- 1.0 -->\n      <defs>\n       <path d=\"M 12.40625 8.296875 \nL 28.515625 8.296875 \nL 28.515625 63.921875 \nL 10.984375 60.40625 \nL 10.984375 69.390625 \nL 28.421875 72.90625 \nL 38.28125 72.90625 \nL 38.28125 8.296875 \nL 54.390625 8.296875 \nL 54.390625 0 \nL 12.40625 0 \nz\n\" id=\"DejaVuSans-49\"/>\n      </defs>\n      <g style=\"fill:#ffffff;\" transform=\"translate(251.426402 239.238437)scale(0.1 -0.1)\">\n       <use xlink:href=\"#DejaVuSans-49\"/>\n       <use x=\"63.623047\" xlink:href=\"#DejaVuSans-46\"/>\n       <use x=\"95.410156\" xlink:href=\"#DejaVuSans-48\"/>\n      </g>\n     </g>\n    </g>\n    <g id=\"xtick_7\">\n     <g id=\"line2d_7\">\n      <g>\n       <use style=\"fill:#ffffff;stroke:#ffffff;stroke-width:0.8;\" x=\"302.421484\" xlink:href=\"#m9bc83cdf01\" y=\"224.64\"/>\n      </g>\n     </g>\n     <g id=\"text_7\">\n      <!-- 1.2 -->\n      <g style=\"fill:#ffffff;\" transform=\"translate(294.469921 239.238437)scale(0.1 -0.1)\">\n       <use xlink:href=\"#DejaVuSans-49\"/>\n       <use x=\"63.623047\" xlink:href=\"#DejaVuSans-46\"/>\n       <use x=\"95.410156\" xlink:href=\"#DejaVuSans-50\"/>\n      </g>\n     </g>\n    </g>\n    <g id=\"xtick_8\">\n     <g id=\"line2d_8\">\n      <g>\n       <use style=\"fill:#ffffff;stroke:#ffffff;stroke-width:0.8;\" x=\"345.465003\" xlink:href=\"#m9bc83cdf01\" y=\"224.64\"/>\n      </g>\n     </g>\n     <g id=\"text_8\">\n      <!-- 1.4 -->\n      <g style=\"fill:#ffffff;\" transform=\"translate(337.513441 239.238437)scale(0.1 -0.1)\">\n       <use xlink:href=\"#DejaVuSans-49\"/>\n       <use x=\"63.623047\" xlink:href=\"#DejaVuSans-46\"/>\n       <use x=\"95.410156\" xlink:href=\"#DejaVuSans-52\"/>\n      </g>\n     </g>\n    </g>\n   </g>\n   <g id=\"matplotlib.axis_2\">\n    <g id=\"ytick_1\">\n     <g id=\"line2d_9\">\n      <defs>\n       <path d=\"M 0 0 \nL -3.5 0 \n\" id=\"m990054035e\" style=\"stroke:#ffffff;stroke-width:0.8;\"/>\n      </defs>\n      <g>\n       <use style=\"fill:#ffffff;stroke:#ffffff;stroke-width:0.8;\" x=\"28.942188\" xlink:href=\"#m990054035e\" y=\"214.756364\"/>\n      </g>\n     </g>\n     <g id=\"text_9\">\n      <!-- −8 -->\n      <defs>\n       <path d=\"M 10.59375 35.5 \nL 73.1875 35.5 \nL 73.1875 27.203125 \nL 10.59375 27.203125 \nz\n\" id=\"DejaVuSans-8722\"/>\n      </defs>\n      <g style=\"fill:#ffffff;\" transform=\"translate(7.2 218.555582)scale(0.1 -0.1)\">\n       <use xlink:href=\"#DejaVuSans-8722\"/>\n       <use x=\"83.789062\" xlink:href=\"#DejaVuSans-56\"/>\n      </g>\n     </g>\n    </g>\n    <g id=\"ytick_2\">\n     <g id=\"line2d_10\">\n      <g>\n       <use style=\"fill:#ffffff;stroke:#ffffff;stroke-width:0.8;\" x=\"28.942188\" xlink:href=\"#m990054035e\" y=\"190.047273\"/>\n      </g>\n     </g>\n     <g id=\"text_10\">\n      <!-- −6 -->\n      <g style=\"fill:#ffffff;\" transform=\"translate(7.2 193.846491)scale(0.1 -0.1)\">\n       <use xlink:href=\"#DejaVuSans-8722\"/>\n       <use x=\"83.789062\" xlink:href=\"#DejaVuSans-54\"/>\n      </g>\n     </g>\n    </g>\n    <g id=\"ytick_3\">\n     <g id=\"line2d_11\">\n      <g>\n       <use style=\"fill:#ffffff;stroke:#ffffff;stroke-width:0.8;\" x=\"28.942188\" xlink:href=\"#m990054035e\" y=\"165.338182\"/>\n      </g>\n     </g>\n     <g id=\"text_11\">\n      <!-- −4 -->\n      <g style=\"fill:#ffffff;\" transform=\"translate(7.2 169.137401)scale(0.1 -0.1)\">\n       <use xlink:href=\"#DejaVuSans-8722\"/>\n       <use x=\"83.789062\" xlink:href=\"#DejaVuSans-52\"/>\n      </g>\n     </g>\n    </g>\n    <g id=\"ytick_4\">\n     <g id=\"line2d_12\">\n      <g>\n       <use style=\"fill:#ffffff;stroke:#ffffff;stroke-width:0.8;\" x=\"28.942188\" xlink:href=\"#m990054035e\" y=\"140.629091\"/>\n      </g>\n     </g>\n     <g id=\"text_12\">\n      <!-- −2 -->\n      <g style=\"fill:#ffffff;\" transform=\"translate(7.2 144.42831)scale(0.1 -0.1)\">\n       <use xlink:href=\"#DejaVuSans-8722\"/>\n       <use x=\"83.789062\" xlink:href=\"#DejaVuSans-50\"/>\n      </g>\n     </g>\n    </g>\n    <g id=\"ytick_5\">\n     <g id=\"line2d_13\">\n      <g>\n       <use style=\"fill:#ffffff;stroke:#ffffff;stroke-width:0.8;\" x=\"28.942188\" xlink:href=\"#m990054035e\" y=\"115.92\"/>\n      </g>\n     </g>\n     <g id=\"text_13\">\n      <!-- 0 -->\n      <g style=\"fill:#ffffff;\" transform=\"translate(15.579688 119.719219)scale(0.1 -0.1)\">\n       <use xlink:href=\"#DejaVuSans-48\"/>\n      </g>\n     </g>\n    </g>\n    <g id=\"ytick_6\">\n     <g id=\"line2d_14\">\n      <g>\n       <use style=\"fill:#ffffff;stroke:#ffffff;stroke-width:0.8;\" x=\"28.942188\" xlink:href=\"#m990054035e\" y=\"91.210909\"/>\n      </g>\n     </g>\n     <g id=\"text_14\">\n      <!-- 2 -->\n      <g style=\"fill:#ffffff;\" transform=\"translate(15.579688 95.010128)scale(0.1 -0.1)\">\n       <use xlink:href=\"#DejaVuSans-50\"/>\n      </g>\n     </g>\n    </g>\n    <g id=\"ytick_7\">\n     <g id=\"line2d_15\">\n      <g>\n       <use style=\"fill:#ffffff;stroke:#ffffff;stroke-width:0.8;\" x=\"28.942188\" xlink:href=\"#m990054035e\" y=\"66.501818\"/>\n      </g>\n     </g>\n     <g id=\"text_15\">\n      <!-- 4 -->\n      <g style=\"fill:#ffffff;\" transform=\"translate(15.579688 70.301037)scale(0.1 -0.1)\">\n       <use xlink:href=\"#DejaVuSans-52\"/>\n      </g>\n     </g>\n    </g>\n    <g id=\"ytick_8\">\n     <g id=\"line2d_16\">\n      <g>\n       <use style=\"fill:#ffffff;stroke:#ffffff;stroke-width:0.8;\" x=\"28.942188\" xlink:href=\"#m990054035e\" y=\"41.792727\"/>\n      </g>\n     </g>\n     <g id=\"text_16\">\n      <!-- 6 -->\n      <g style=\"fill:#ffffff;\" transform=\"translate(15.579688 45.591946)scale(0.1 -0.1)\">\n       <use xlink:href=\"#DejaVuSans-54\"/>\n      </g>\n     </g>\n    </g>\n    <g id=\"ytick_9\">\n     <g id=\"line2d_17\">\n      <g>\n       <use style=\"fill:#ffffff;stroke:#ffffff;stroke-width:0.8;\" x=\"28.942188\" xlink:href=\"#m990054035e\" y=\"17.083636\"/>\n      </g>\n     </g>\n     <g id=\"text_17\">\n      <!-- 8 -->\n      <g style=\"fill:#ffffff;\" transform=\"translate(15.579688 20.882855)scale(0.1 -0.1)\">\n       <use xlink:href=\"#DejaVuSans-56\"/>\n      </g>\n     </g>\n    </g>\n   </g>\n   <g id=\"line2d_18\">\n    <path clip-path=\"url(#p232e9fc934)\" d=\"M 44.160369 214.756364 \nL 56.333697 214.517063 \nL 65.23675 214.034703 \nL 73.948959 213.306899 \nL 82.586415 212.332431 \nL 90.389617 211.233484 \nL 98.393751 209.889107 \nL 106.505799 208.301152 \nL 114.672135 206.472682 \nL 122.858908 204.407974 \nL 131.042937 202.112516 \nL 139.207148 199.592994 \nL 147.338137 196.857275 \nL 155.734347 193.79737 \nL 164.311327 190.428172 \nL 173.002957 186.767027 \nL 181.756484 182.833679 \nL 190.528898 178.65019 \nL 199.694695 174.028558 \nL 208.941426 169.11639 \nL 218.557016 163.754641 \nL 228.566989 157.914335 \nL 239.106953 151.501193 \nL 250.226409 144.471836 \nL 262.487834 136.451451 \nL 276.819367 126.799738 \nL 301.436092 109.890881 \nL 316.77434 99.501837 \nL 326.451315 93.205841 \nL 333.898578 88.614494 \nL 339.849065 85.196128 \nL 344.551808 82.739154 \nL 347.956988 81.193452 \nL 348.524006 80.976071 \nL 347.390671 81.301629 \nL 344.630875 81.899364 \nL 341.187117 82.41528 \nL 337.232504 82.780457 \nL 332.820169 82.960336 \nL 328.038107 82.930569 \nL 322.863776 82.674869 \nL 317.255824 82.172238 \nL 311.252894 81.409397 \nL 304.745716 80.355216 \nL 297.7281 78.989745 \nL 290.100542 77.27536 \nL 281.72369 75.159349 \nL 272.515098 72.600589 \nL 262.013674 69.445749 \nL 249.695691 65.505017 \nL 233.727456 60.147905 \nL 182.474902 42.781087 \nL 168.476433 38.373378 \nL 156.042906 34.688147 \nL 144.593523 31.523087 \nL 133.855057 28.780848 \nL 123.763186 26.424015 \nL 114.158842 24.395455 \nL 104.733966 22.621694 \nL 95.631418 21.12401 \nL 86.237081 19.811118 \nL 77.455006 18.806647 \nL 68.492403 18.011767 \nL 61.372609 17.551067 \nL 52.769073 17.201426 \nL 44.160369 17.083636 \nL 44.160369 17.083636 \n\" style=\"fill:none;stroke:#8dd3c7;stroke-linecap:square;stroke-width:1.5;\"/>\n   </g>\n   <g id=\"patch_3\">\n    <path d=\"M 28.942188 224.64 \nL 28.942188 7.2 \n\" style=\"fill:none;stroke:#ffffff;stroke-linecap:square;stroke-linejoin:miter;stroke-width:0.8;\"/>\n   </g>\n   <g id=\"patch_4\">\n    <path d=\"M 363.742188 224.64 \nL 363.742188 7.2 \n\" style=\"fill:none;stroke:#ffffff;stroke-linecap:square;stroke-linejoin:miter;stroke-width:0.8;\"/>\n   </g>\n   <g id=\"patch_5\">\n    <path d=\"M 28.942188 224.64 \nL 363.742188 224.64 \n\" style=\"fill:none;stroke:#ffffff;stroke-linecap:square;stroke-linejoin:miter;stroke-width:0.8;\"/>\n   </g>\n   <g id=\"patch_6\">\n    <path d=\"M 28.942188 7.2 \nL 363.742188 7.2 \n\" style=\"fill:none;stroke:#ffffff;stroke-linecap:square;stroke-linejoin:miter;stroke-width:0.8;\"/>\n   </g>\n  </g>\n </g>\n <defs>\n  <clipPath id=\"p232e9fc934\">\n   <rect height=\"217.44\" width=\"334.8\" x=\"28.942188\" y=\"7.2\"/>\n  </clipPath>\n </defs>\n</svg>\n",
      "text/plain": [
       "<Figure size 432x288 with 1 Axes>"
      ]
     },
     "metadata": {},
     "output_type": "display_data"
    }
   ],
   "source": [
    "plt.plot(y,z)\n",
    "plt.show()"
   ]
  },
  {
   "cell_type": "code",
   "execution_count": 20,
   "metadata": {},
   "outputs": [
    {
     "data": {
      "image/png": "[encoded data removed]",
      "image/svg+xml": "<?xml version=\"1.0\" encoding=\"utf-8\" standalone=\"no\"?>\n<!DOCTYPE svg PUBLIC \"-//W3C//DTD SVG 1.1//EN\"\n  \"http://www.w3.org/Graphics/SVG/1.1/DTD/svg11.dtd\">\n<!-- Created with matplotlib (https://matplotlib.org/) -->\n<svg height=\"248.518125pt\" version=\"1.1\" viewBox=\"0 0 370.942187 248.518125\" width=\"370.942187pt\" xmlns=\"http://www.w3.org/2000/svg\" xmlns:xlink=\"http://www.w3.org/1999/xlink\">\n <defs>\n  <style type=\"text/css\">\n*{stroke-linecap:butt;stroke-linejoin:round;}\n  </style>\n </defs>\n <g id=\"figure_1\">\n  <g id=\"patch_1\">\n   <path d=\"M 0 248.518125 \nL 370.942187 248.518125 \nL 370.942187 0 \nL 0 0 \nz\n\"/>\n  </g>\n  <g id=\"axes_1\">\n   <g id=\"patch_2\">\n    <path d=\"M 28.942188 224.64 \nL 363.742188 224.64 \nL 363.742188 7.2 \nL 28.942188 7.2 \nz\n\"/>\n   </g>\n   <g id=\"matplotlib.axis_1\">\n    <g id=\"xtick_1\">\n     <g id=\"line2d_1\">\n      <defs>\n       <path d=\"M 0 0 \nL 0 3.5 \n\" id=\"m53ebd7aa1f\" style=\"stroke:#ffffff;stroke-width:0.8;\"/>\n      </defs>\n      <g>\n       <use style=\"fill:#ffffff;stroke:#ffffff;stroke-width:0.8;\" x=\"44.160369\" xlink:href=\"#m53ebd7aa1f\" y=\"224.64\"/>\n      </g>\n     </g>\n     <g id=\"text_1\">\n      <!-- −2.0 -->\n      <defs>\n       <path d=\"M 10.59375 35.5 \nL 73.1875 35.5 \nL 73.1875 27.203125 \nL 10.59375 27.203125 \nz\n\" id=\"DejaVuSans-8722\"/>\n       <path d=\"M 19.1875 8.296875 \nL 53.609375 8.296875 \nL 53.609375 0 \nL 7.328125 0 \nL 7.328125 8.296875 \nQ 12.9375 14.109375 22.625 23.890625 \nQ 32.328125 33.6875 34.8125 36.53125 \nQ 39.546875 41.84375 41.421875 45.53125 \nQ 43.3125 49.21875 43.3125 52.78125 \nQ 43.3125 58.59375 39.234375 62.25 \nQ 35.15625 65.921875 28.609375 65.921875 \nQ 23.96875 65.921875 18.8125 64.3125 \nQ 13.671875 62.703125 7.8125 59.421875 \nL 7.8125 69.390625 \nQ 13.765625 71.78125 18.9375 73 \nQ 24.125 74.21875 28.421875 74.21875 \nQ 39.75 74.21875 46.484375 68.546875 \nQ 53.21875 62.890625 53.21875 53.421875 \nQ 53.21875 48.921875 51.53125 44.890625 \nQ 49.859375 40.875 45.40625 35.40625 \nQ 44.1875 33.984375 37.640625 27.21875 \nQ 31.109375 20.453125 19.1875 8.296875 \nz\n\" id=\"DejaVuSans-50\"/>\n       <path d=\"M 10.6875 12.40625 \nL 21 12.40625 \nL 21 0 \nL 10.6875 0 \nz\n\" id=\"DejaVuSans-46\"/>\n       <path d=\"M 31.78125 66.40625 \nQ 24.171875 66.40625 20.328125 58.90625 \nQ 16.5 51.421875 16.5 36.375 \nQ 16.5 21.390625 20.328125 13.890625 \nQ 24.171875 6.390625 31.78125 6.390625 \nQ 39.453125 6.390625 43.28125 13.890625 \nQ 47.125 21.390625 47.125 36.375 \nQ 47.125 51.421875 43.28125 58.90625 \nQ 39.453125 66.40625 31.78125 66.40625 \nz\nM 31.78125 74.21875 \nQ 44.046875 74.21875 50.515625 64.515625 \nQ 56.984375 54.828125 56.984375 36.375 \nQ 56.984375 17.96875 50.515625 8.265625 \nQ 44.046875 -1.421875 31.78125 -1.421875 \nQ 19.53125 -1.421875 13.0625 8.265625 \nQ 6.59375 17.96875 6.59375 36.375 \nQ 6.59375 54.828125 13.0625 64.515625 \nQ 19.53125 74.21875 31.78125 74.21875 \nz\n\" id=\"DejaVuSans-48\"/>\n      </defs>\n      <g style=\"fill:#ffffff;\" transform=\"translate(32.018963 239.238437)scale(0.1 -0.1)\">\n       <use xlink:href=\"#DejaVuSans-8722\"/>\n       <use x=\"83.789062\" xlink:href=\"#DejaVuSans-50\"/>\n       <use x=\"147.412109\" xlink:href=\"#DejaVuSans-46\"/>\n       <use x=\"179.199219\" xlink:href=\"#DejaVuSans-48\"/>\n      </g>\n     </g>\n    </g>\n    <g id=\"xtick_2\">\n     <g id=\"line2d_2\">\n      <g>\n       <use style=\"fill:#ffffff;stroke:#ffffff;stroke-width:0.8;\" x=\"82.205824\" xlink:href=\"#m53ebd7aa1f\" y=\"224.64\"/>\n      </g>\n     </g>\n     <g id=\"text_2\">\n      <!-- −1.5 -->\n      <defs>\n       <path d=\"M 12.40625 8.296875 \nL 28.515625 8.296875 \nL 28.515625 63.921875 \nL 10.984375 60.40625 \nL 10.984375 69.390625 \nL 28.421875 72.90625 \nL 38.28125 72.90625 \nL 38.28125 8.296875 \nL 54.390625 8.296875 \nL 54.390625 0 \nL 12.40625 0 \nz\n\" id=\"DejaVuSans-49\"/>\n       <path d=\"M 10.796875 72.90625 \nL 49.515625 72.90625 \nL 49.515625 64.59375 \nL 19.828125 64.59375 \nL 19.828125 46.734375 \nQ 21.96875 47.46875 24.109375 47.828125 \nQ 26.265625 48.1875 28.421875 48.1875 \nQ 40.625 48.1875 47.75 41.5 \nQ 54.890625 34.8125 54.890625 23.390625 \nQ 54.890625 11.625 47.5625 5.09375 \nQ 40.234375 -1.421875 26.90625 -1.421875 \nQ 22.3125 -1.421875 17.546875 -0.640625 \nQ 12.796875 0.140625 7.71875 1.703125 \nL 7.71875 11.625 \nQ 12.109375 9.234375 16.796875 8.0625 \nQ 21.484375 6.890625 26.703125 6.890625 \nQ 35.15625 6.890625 40.078125 11.328125 \nQ 45.015625 15.765625 45.015625 23.390625 \nQ 45.015625 31 40.078125 35.4375 \nQ 35.15625 39.890625 26.703125 39.890625 \nQ 22.75 39.890625 18.8125 39.015625 \nQ 14.890625 38.140625 10.796875 36.28125 \nz\n\" id=\"DejaVuSans-53\"/>\n      </defs>\n      <g style=\"fill:#ffffff;\" transform=\"translate(70.064418 239.238437)scale(0.1 -0.1)\">\n       <use xlink:href=\"#DejaVuSans-8722\"/>\n       <use x=\"83.789062\" xlink:href=\"#DejaVuSans-49\"/>\n       <use x=\"147.412109\" xlink:href=\"#DejaVuSans-46\"/>\n       <use x=\"179.199219\" xlink:href=\"#DejaVuSans-53\"/>\n      </g>\n     </g>\n    </g>\n    <g id=\"xtick_3\">\n     <g id=\"line2d_3\">\n      <g>\n       <use style=\"fill:#ffffff;stroke:#ffffff;stroke-width:0.8;\" x=\"120.251278\" xlink:href=\"#m53ebd7aa1f\" y=\"224.64\"/>\n      </g>\n     </g>\n     <g id=\"text_3\">\n      <!-- −1.0 -->\n      <g style=\"fill:#ffffff;\" transform=\"translate(108.109872 239.238437)scale(0.1 -0.1)\">\n       <use xlink:href=\"#DejaVuSans-8722\"/>\n       <use x=\"83.789062\" xlink:href=\"#DejaVuSans-49\"/>\n       <use x=\"147.412109\" xlink:href=\"#DejaVuSans-46\"/>\n       <use x=\"179.199219\" xlink:href=\"#DejaVuSans-48\"/>\n      </g>\n     </g>\n    </g>\n    <g id=\"xtick_4\">\n     <g id=\"line2d_4\">\n      <g>\n       <use style=\"fill:#ffffff;stroke:#ffffff;stroke-width:0.8;\" x=\"158.296733\" xlink:href=\"#m53ebd7aa1f\" y=\"224.64\"/>\n      </g>\n     </g>\n     <g id=\"text_4\">\n      <!-- −0.5 -->\n      <g style=\"fill:#ffffff;\" transform=\"translate(146.155327 239.238437)scale(0.1 -0.1)\">\n       <use xlink:href=\"#DejaVuSans-8722\"/>\n       <use x=\"83.789062\" xlink:href=\"#DejaVuSans-48\"/>\n       <use x=\"147.412109\" xlink:href=\"#DejaVuSans-46\"/>\n       <use x=\"179.199219\" xlink:href=\"#DejaVuSans-53\"/>\n      </g>\n     </g>\n    </g>\n    <g id=\"xtick_5\">\n     <g id=\"line2d_5\">\n      <g>\n       <use style=\"fill:#ffffff;stroke:#ffffff;stroke-width:0.8;\" x=\"196.342188\" xlink:href=\"#m53ebd7aa1f\" y=\"224.64\"/>\n      </g>\n     </g>\n     <g id=\"text_5\">\n      <!-- 0.0 -->\n      <g style=\"fill:#ffffff;\" transform=\"translate(188.390625 239.238437)scale(0.1 -0.1)\">\n       <use xlink:href=\"#DejaVuSans-48\"/>\n       <use x=\"63.623047\" xlink:href=\"#DejaVuSans-46\"/>\n       <use x=\"95.410156\" xlink:href=\"#DejaVuSans-48\"/>\n      </g>\n     </g>\n    </g>\n    <g id=\"xtick_6\">\n     <g id=\"line2d_6\">\n      <g>\n       <use style=\"fill:#ffffff;stroke:#ffffff;stroke-width:0.8;\" x=\"234.387642\" xlink:href=\"#m53ebd7aa1f\" y=\"224.64\"/>\n      </g>\n     </g>\n     <g id=\"text_6\">\n      <!-- 0.5 -->\n      <g style=\"fill:#ffffff;\" transform=\"translate(226.43608 239.238437)scale(0.1 -0.1)\">\n       <use xlink:href=\"#DejaVuSans-48\"/>\n       <use x=\"63.623047\" xlink:href=\"#DejaVuSans-46\"/>\n       <use x=\"95.410156\" xlink:href=\"#DejaVuSans-53\"/>\n      </g>\n     </g>\n    </g>\n    <g id=\"xtick_7\">\n     <g id=\"line2d_7\">\n      <g>\n       <use style=\"fill:#ffffff;stroke:#ffffff;stroke-width:0.8;\" x=\"272.433097\" xlink:href=\"#m53ebd7aa1f\" y=\"224.64\"/>\n      </g>\n     </g>\n     <g id=\"text_7\">\n      <!-- 1.0 -->\n      <g style=\"fill:#ffffff;\" transform=\"translate(264.481534 239.238437)scale(0.1 -0.1)\">\n       <use xlink:href=\"#DejaVuSans-49\"/>\n       <use x=\"63.623047\" xlink:href=\"#DejaVuSans-46\"/>\n       <use x=\"95.410156\" xlink:href=\"#DejaVuSans-48\"/>\n      </g>\n     </g>\n    </g>\n    <g id=\"xtick_8\">\n     <g id=\"line2d_8\">\n      <g>\n       <use style=\"fill:#ffffff;stroke:#ffffff;stroke-width:0.8;\" x=\"310.478551\" xlink:href=\"#m53ebd7aa1f\" y=\"224.64\"/>\n      </g>\n     </g>\n     <g id=\"text_8\">\n      <!-- 1.5 -->\n      <g style=\"fill:#ffffff;\" transform=\"translate(302.526989 239.238437)scale(0.1 -0.1)\">\n       <use xlink:href=\"#DejaVuSans-49\"/>\n       <use x=\"63.623047\" xlink:href=\"#DejaVuSans-46\"/>\n       <use x=\"95.410156\" xlink:href=\"#DejaVuSans-53\"/>\n      </g>\n     </g>\n    </g>\n    <g id=\"xtick_9\">\n     <g id=\"line2d_9\">\n      <g>\n       <use style=\"fill:#ffffff;stroke:#ffffff;stroke-width:0.8;\" x=\"348.524006\" xlink:href=\"#m53ebd7aa1f\" y=\"224.64\"/>\n      </g>\n     </g>\n     <g id=\"text_9\">\n      <!-- 2.0 -->\n      <g style=\"fill:#ffffff;\" transform=\"translate(340.572443 239.238437)scale(0.1 -0.1)\">\n       <use xlink:href=\"#DejaVuSans-50\"/>\n       <use x=\"63.623047\" xlink:href=\"#DejaVuSans-46\"/>\n       <use x=\"95.410156\" xlink:href=\"#DejaVuSans-48\"/>\n      </g>\n     </g>\n    </g>\n   </g>\n   <g id=\"matplotlib.axis_2\">\n    <g id=\"ytick_1\">\n     <g id=\"line2d_10\">\n      <defs>\n       <path d=\"M 0 0 \nL -3.5 0 \n\" id=\"m0cd98c15e4\" style=\"stroke:#ffffff;stroke-width:0.8;\"/>\n      </defs>\n      <g>\n       <use style=\"fill:#ffffff;stroke:#ffffff;stroke-width:0.8;\" x=\"28.942188\" xlink:href=\"#m0cd98c15e4\" y=\"214.756364\"/>\n      </g>\n     </g>\n     <g id=\"text_10\">\n      <!-- −8 -->\n      <defs>\n       <path d=\"M 31.78125 34.625 \nQ 24.75 34.625 20.71875 30.859375 \nQ 16.703125 27.09375 16.703125 20.515625 \nQ 16.703125 13.921875 20.71875 10.15625 \nQ 24.75 6.390625 31.78125 6.390625 \nQ 38.8125 6.390625 42.859375 10.171875 \nQ 46.921875 13.96875 46.921875 20.515625 \nQ 46.921875 27.09375 42.890625 30.859375 \nQ 38.875 34.625 31.78125 34.625 \nz\nM 21.921875 38.8125 \nQ 15.578125 40.375 12.03125 44.71875 \nQ 8.5 49.078125 8.5 55.328125 \nQ 8.5 64.0625 14.71875 69.140625 \nQ 20.953125 74.21875 31.78125 74.21875 \nQ 42.671875 74.21875 48.875 69.140625 \nQ 55.078125 64.0625 55.078125 55.328125 \nQ 55.078125 49.078125 51.53125 44.71875 \nQ 48 40.375 41.703125 38.8125 \nQ 48.828125 37.15625 52.796875 32.3125 \nQ 56.78125 27.484375 56.78125 20.515625 \nQ 56.78125 9.90625 50.3125 4.234375 \nQ 43.84375 -1.421875 31.78125 -1.421875 \nQ 19.734375 -1.421875 13.25 4.234375 \nQ 6.78125 9.90625 6.78125 20.515625 \nQ 6.78125 27.484375 10.78125 32.3125 \nQ 14.796875 37.15625 21.921875 38.8125 \nz\nM 18.3125 54.390625 \nQ 18.3125 48.734375 21.84375 45.5625 \nQ 25.390625 42.390625 31.78125 42.390625 \nQ 38.140625 42.390625 41.71875 45.5625 \nQ 45.3125 48.734375 45.3125 54.390625 \nQ 45.3125 60.0625 41.71875 63.234375 \nQ 38.140625 66.40625 31.78125 66.40625 \nQ 25.390625 66.40625 21.84375 63.234375 \nQ 18.3125 60.0625 18.3125 54.390625 \nz\n\" id=\"DejaVuSans-56\"/>\n      </defs>\n      <g style=\"fill:#ffffff;\" transform=\"translate(7.2 218.555582)scale(0.1 -0.1)\">\n       <use xlink:href=\"#DejaVuSans-8722\"/>\n       <use x=\"83.789062\" xlink:href=\"#DejaVuSans-56\"/>\n      </g>\n     </g>\n    </g>\n    <g id=\"ytick_2\">\n     <g id=\"line2d_11\">\n      <g>\n       <use style=\"fill:#ffffff;stroke:#ffffff;stroke-width:0.8;\" x=\"28.942188\" xlink:href=\"#m0cd98c15e4\" y=\"190.047273\"/>\n      </g>\n     </g>\n     <g id=\"text_11\">\n      <!-- −6 -->\n      <defs>\n       <path d=\"M 33.015625 40.375 \nQ 26.375 40.375 22.484375 35.828125 \nQ 18.609375 31.296875 18.609375 23.390625 \nQ 18.609375 15.53125 22.484375 10.953125 \nQ 26.375 6.390625 33.015625 6.390625 \nQ 39.65625 6.390625 43.53125 10.953125 \nQ 47.40625 15.53125 47.40625 23.390625 \nQ 47.40625 31.296875 43.53125 35.828125 \nQ 39.65625 40.375 33.015625 40.375 \nz\nM 52.59375 71.296875 \nL 52.59375 62.3125 \nQ 48.875 64.0625 45.09375 64.984375 \nQ 41.3125 65.921875 37.59375 65.921875 \nQ 27.828125 65.921875 22.671875 59.328125 \nQ 17.53125 52.734375 16.796875 39.40625 \nQ 19.671875 43.65625 24.015625 45.921875 \nQ 28.375 48.1875 33.59375 48.1875 \nQ 44.578125 48.1875 50.953125 41.515625 \nQ 57.328125 34.859375 57.328125 23.390625 \nQ 57.328125 12.15625 50.6875 5.359375 \nQ 44.046875 -1.421875 33.015625 -1.421875 \nQ 20.359375 -1.421875 13.671875 8.265625 \nQ 6.984375 17.96875 6.984375 36.375 \nQ 6.984375 53.65625 15.1875 63.9375 \nQ 23.390625 74.21875 37.203125 74.21875 \nQ 40.921875 74.21875 44.703125 73.484375 \nQ 48.484375 72.75 52.59375 71.296875 \nz\n\" id=\"DejaVuSans-54\"/>\n      </defs>\n      <g style=\"fill:#ffffff;\" transform=\"translate(7.2 193.846491)scale(0.1 -0.1)\">\n       <use xlink:href=\"#DejaVuSans-8722\"/>\n       <use x=\"83.789062\" xlink:href=\"#DejaVuSans-54\"/>\n      </g>\n     </g>\n    </g>\n    <g id=\"ytick_3\">\n     <g id=\"line2d_12\">\n      <g>\n       <use style=\"fill:#ffffff;stroke:#ffffff;stroke-width:0.8;\" x=\"28.942188\" xlink:href=\"#m0cd98c15e4\" y=\"165.338182\"/>\n      </g>\n     </g>\n     <g id=\"text_12\">\n      <!-- −4 -->\n      <defs>\n       <path d=\"M 37.796875 64.3125 \nL 12.890625 25.390625 \nL 37.796875 25.390625 \nz\nM 35.203125 72.90625 \nL 47.609375 72.90625 \nL 47.609375 25.390625 \nL 58.015625 25.390625 \nL 58.015625 17.1875 \nL 47.609375 17.1875 \nL 47.609375 0 \nL 37.796875 0 \nL 37.796875 17.1875 \nL 4.890625 17.1875 \nL 4.890625 26.703125 \nz\n\" id=\"DejaVuSans-52\"/>\n      </defs>\n      <g style=\"fill:#ffffff;\" transform=\"translate(7.2 169.137401)scale(0.1 -0.1)\">\n       <use xlink:href=\"#DejaVuSans-8722\"/>\n       <use x=\"83.789062\" xlink:href=\"#DejaVuSans-52\"/>\n      </g>\n     </g>\n    </g>\n    <g id=\"ytick_4\">\n     <g id=\"line2d_13\">\n      <g>\n       <use style=\"fill:#ffffff;stroke:#ffffff;stroke-width:0.8;\" x=\"28.942188\" xlink:href=\"#m0cd98c15e4\" y=\"140.629091\"/>\n      </g>\n     </g>\n     <g id=\"text_13\">\n      <!-- −2 -->\n      <g style=\"fill:#ffffff;\" transform=\"translate(7.2 144.42831)scale(0.1 -0.1)\">\n       <use xlink:href=\"#DejaVuSans-8722\"/>\n       <use x=\"83.789062\" xlink:href=\"#DejaVuSans-50\"/>\n      </g>\n     </g>\n    </g>\n    <g id=\"ytick_5\">\n     <g id=\"line2d_14\">\n      <g>\n       <use style=\"fill:#ffffff;stroke:#ffffff;stroke-width:0.8;\" x=\"28.942188\" xlink:href=\"#m0cd98c15e4\" y=\"115.92\"/>\n      </g>\n     </g>\n     <g id=\"text_14\">\n      <!-- 0 -->\n      <g style=\"fill:#ffffff;\" transform=\"translate(15.579688 119.719219)scale(0.1 -0.1)\">\n       <use xlink:href=\"#DejaVuSans-48\"/>\n      </g>\n     </g>\n    </g>\n    <g id=\"ytick_6\">\n     <g id=\"line2d_15\">\n      <g>\n       <use style=\"fill:#ffffff;stroke:#ffffff;stroke-width:0.8;\" x=\"28.942188\" xlink:href=\"#m0cd98c15e4\" y=\"91.210909\"/>\n      </g>\n     </g>\n     <g id=\"text_15\">\n      <!-- 2 -->\n      <g style=\"fill:#ffffff;\" transform=\"translate(15.579688 95.010128)scale(0.1 -0.1)\">\n       <use xlink:href=\"#DejaVuSans-50\"/>\n      </g>\n     </g>\n    </g>\n    <g id=\"ytick_7\">\n     <g id=\"line2d_16\">\n      <g>\n       <use style=\"fill:#ffffff;stroke:#ffffff;stroke-width:0.8;\" x=\"28.942188\" xlink:href=\"#m0cd98c15e4\" y=\"66.501818\"/>\n      </g>\n     </g>\n     <g id=\"text_16\">\n      <!-- 4 -->\n      <g style=\"fill:#ffffff;\" transform=\"translate(15.579688 70.301037)scale(0.1 -0.1)\">\n       <use xlink:href=\"#DejaVuSans-52\"/>\n      </g>\n     </g>\n    </g>\n    <g id=\"ytick_8\">\n     <g id=\"line2d_17\">\n      <g>\n       <use style=\"fill:#ffffff;stroke:#ffffff;stroke-width:0.8;\" x=\"28.942188\" xlink:href=\"#m0cd98c15e4\" y=\"41.792727\"/>\n      </g>\n     </g>\n     <g id=\"text_17\">\n      <!-- 6 -->\n      <g style=\"fill:#ffffff;\" transform=\"translate(15.579688 45.591946)scale(0.1 -0.1)\">\n       <use xlink:href=\"#DejaVuSans-54\"/>\n      </g>\n     </g>\n    </g>\n    <g id=\"ytick_9\">\n     <g id=\"line2d_18\">\n      <g>\n       <use style=\"fill:#ffffff;stroke:#ffffff;stroke-width:0.8;\" x=\"28.942188\" xlink:href=\"#m0cd98c15e4\" y=\"17.083636\"/>\n      </g>\n     </g>\n     <g id=\"text_18\">\n      <!-- 8 -->\n      <g style=\"fill:#ffffff;\" transform=\"translate(15.579688 20.882855)scale(0.1 -0.1)\">\n       <use xlink:href=\"#DejaVuSans-56\"/>\n      </g>\n     </g>\n    </g>\n   </g>\n   <g id=\"line2d_19\">\n    <path clip-path=\"url(#p16ec753374)\" d=\"M 44.160369 214.756364 \nL 60.051329 183.837871 \nL 65.226546 174.559742 \nL 70.219108 166.058178 \nL 75.089901 158.200532 \nL 79.838923 150.958876 \nL 84.466176 144.301675 \nL 89.032544 138.115727 \nL 93.538027 132.381889 \nL 97.982625 127.08018 \nL 102.366338 122.190188 \nL 106.750051 117.630247 \nL 111.072879 113.449639 \nL 115.395707 109.575094 \nL 119.718535 105.998393 \nL 124.041364 102.710843 \nL 128.364192 99.703324 \nL 132.68702 96.96633 \nL 137.009848 94.489993 \nL 141.393561 92.234505 \nL 145.838159 90.199404 \nL 150.343642 88.383114 \nL 154.91001 86.78289 \nL 159.598148 85.377994 \nL 164.408055 84.171793 \nL 169.339732 83.165365 \nL 174.454064 82.348826 \nL 179.811936 81.719347 \nL 185.474232 81.279046 \nL 191.562723 81.030818 \nL 198.260062 80.984195 \nL 205.93156 81.159255 \nL 215.73403 81.619198 \nL 240.453301 82.87911 \nL 247.942144 82.972695 \nL 254.335059 82.834872 \nL 260.119125 82.490268 \nL 265.416111 81.955606 \nL 270.408674 81.230372 \nL 275.157696 80.315684 \nL 279.663179 79.222905 \nL 283.986007 77.948477 \nL 288.187066 76.479416 \nL 292.266354 74.818098 \nL 296.223873 72.968862 \nL 300.120507 70.903649 \nL 303.956256 68.618202 \nL 307.73112 66.10895 \nL 311.445099 63.372941 \nL 315.098193 60.407766 \nL 318.751288 57.15479 \nL 322.343497 53.658837 \nL 325.935706 49.850512 \nL 329.467031 45.783478 \nL 332.998355 41.375031 \nL 336.468795 36.686351 \nL 339.878349 31.708121 \nL 343.227019 26.424015 \nL 346.393034 21.015671 \nL 348.524006 17.083636 \nL 348.524006 17.083636 \n\" style=\"fill:none;stroke:#8dd3c7;stroke-linecap:square;stroke-width:1.5;\"/>\n   </g>\n   <g id=\"patch_3\">\n    <path d=\"M 28.942188 224.64 \nL 28.942188 7.2 \n\" style=\"fill:none;stroke:#ffffff;stroke-linecap:square;stroke-linejoin:miter;stroke-width:0.8;\"/>\n   </g>\n   <g id=\"patch_4\">\n    <path d=\"M 363.742188 224.64 \nL 363.742188 7.2 \n\" style=\"fill:none;stroke:#ffffff;stroke-linecap:square;stroke-linejoin:miter;stroke-width:0.8;\"/>\n   </g>\n   <g id=\"patch_5\">\n    <path d=\"M 28.942188 224.64 \nL 363.742188 224.64 \n\" style=\"fill:none;stroke:#ffffff;stroke-linecap:square;stroke-linejoin:miter;stroke-width:0.8;\"/>\n   </g>\n   <g id=\"patch_6\">\n    <path d=\"M 28.942188 7.2 \nL 363.742188 7.2 \n\" style=\"fill:none;stroke:#ffffff;stroke-linecap:square;stroke-linejoin:miter;stroke-width:0.8;\"/>\n   </g>\n  </g>\n </g>\n <defs>\n  <clipPath id=\"p16ec753374\">\n   <rect height=\"217.44\" width=\"334.8\" x=\"28.942188\" y=\"7.2\"/>\n  </clipPath>\n </defs>\n</svg>\n",
      "text/plain": [
       "<Figure size 432x288 with 1 Axes>"
      ]
     },
     "metadata": {},
     "output_type": "display_data"
    }
   ],
   "source": [
    "plt.plot(x,z)\n",
    "plt.show()"
   ]
  },
  {
   "cell_type": "code",
   "execution_count": 2,
   "metadata": {},
   "outputs": [],
   "source": [
    "t = \"\"\"I Saw Her Standing There\n",
    "Misery\n",
    "Anna (Go To Him)\n",
    "Chains\n",
    "Boys\n",
    "Ask Me Why\n",
    "Please Please Me\n",
    "Love Me Do\n",
    "P.S. I Love You\n",
    "Baby It's You\n",
    "Do You Want To Know A Secret?\n",
    "A Taste Of Honey\n",
    "There's A Place\n",
    "Twist And Shout\n",
    "It Won't Be Long\n",
    "All I've Got To Do\n",
    "All My Loving\n",
    "Don't Bother Me\n",
    "Little Child\n",
    "Till There Was You\n",
    "Please Mister Postman\n",
    "Roll Over Beethoven\n",
    "Hold Me Tight\n",
    "You Really Got A Hold On Me\n",
    "I Wanna Be Your Man\n",
    "Devil In Her Heart\n",
    "Not A Second Time\n",
    "Money (That's What I Want)\n",
    "A Hard Day's Night\n",
    "I Should Have Known Better\n",
    "If I Fell\n",
    "I'm Happy Just To Dance With You\n",
    "And I Love Her\n",
    "Tell Me Why\n",
    "Can't Buy Me Love\n",
    "Any Time At All\n",
    "I'll Cry Instead\n",
    "Things We Said Today\n",
    "When I Get Home\n",
    "You Can't Do That\n",
    "I'll Be Back\n",
    "No Reply\n",
    "I'm A Loser\n",
    "Baby's In Black\n",
    "Rock And Roll Music\n",
    "I'll Follow The Sun\n",
    "Mr. Moonlight\n",
    "Kansas City/Hey, Hey, Hey, Hey\n",
    "Eight Days A Week\n",
    "Words of Love\n",
    "Honey Don't\n",
    "Every Little Thing\n",
    "I Don't Want To Spoil The Party\n",
    "What You're Doing\n",
    "Everybody's Trying To Be My Baby\n",
    "Help!\n",
    "The Night Before\n",
    "You've Got To Hide Your Love Away\n",
    "I Need You\n",
    "Another Girl\n",
    "You're Going to Lose That Girl\n",
    "Ticket To Ride\n",
    "Act Naturally\n",
    "It's Only Love\n",
    "You Like Me Too Much\n",
    "Tell Me What You See\n",
    "I've Just Seen a Face\n",
    "Yesterday\n",
    "Dizzy Miss Lizzy\n",
    "Drive My Car\n",
    "Norwegian Wood (This Bird Has Flown)\n",
    "You Won't See Me\n",
    "Nowhere Man\n",
    "Think For Yourself\n",
    "The Word\n",
    "Michelle\n",
    "What Goes On\n",
    "Girl\n",
    "I'm Looking Through You\n",
    "In My Life\n",
    "Wait\n",
    "If I Needed Someone\n",
    "Run For Your Life\n",
    "Taxman\n",
    "Eleanor Rigby\n",
    "I'm Only Sleeping\n",
    "Love You To\n",
    "Here, There And Everywhere\n",
    "Yellow Submarine\n",
    "She Said She Said\n",
    "Good Day Sunshine\n",
    "And Your Bird Can Sing\n",
    "For No One\n",
    "Doctor Robert\n",
    "I Want To Tell You\n",
    "Got To Get You Into My Life\n",
    "Tomorrow Never Knows\n",
    "Sgt. Pepper's Lonely Hearts Club Band\n",
    "With A Little Help From My Friends\n",
    "Lucy In The Sky With Diamonds\n",
    "Getting Better\n",
    "Fixing A Hole\n",
    "She's Leaving Home\n",
    "Being For The Benefit Of Mr Kite!\n",
    "Within You Without You\n",
    "When I'm Sixty-Four\n",
    "Lovely Rita\n",
    "Good Morning Good Morning\n",
    "Sgt. Pepper's Lonely Hearts Club Band (Reprise)\n",
    "A Day In The Life\n",
    "Magical Mystery Tour\n",
    "The Fool On The Hill\n",
    "Flying\n",
    "Blue Jay Way\n",
    "Your Mother Should Know\n",
    "I Am The Walrus\n",
    "Hello, Goodbye\n",
    "Strawberry Fields Forever\n",
    "Penny Lane\n",
    "Baby You're A Rich Man\n",
    "All You Need Is Love\n",
    "Back In The U.S.S.R\n",
    "Dear Prudence\n",
    "Glass Onion\n",
    "Ob-La-Di, Ob-La-Da\n",
    "Wild Honey Pie\n",
    "The Continuing Story Of Bungalow Bill\n",
    "While My Guitar Gently Weeps\n",
    "Happiness Is A Warm Gun\n",
    "Martha My Dear\n",
    "I'm So Tired\n",
    "Blackbird\n",
    "Piggies\n",
    "Rocky Raccoon\n",
    "Don't Pass Me By\n",
    "Why Don't We Do It In The Road\n",
    "I Will\n",
    "Julia\n",
    "Birthday\n",
    "Yer Blues\n",
    "Mother Nature's Son\n",
    "Everybody's Got Something To Hide Except Me And My Monkey\n",
    "Sexy Sadie\n",
    "Helter Skelter\n",
    "Long, Long, Long\n",
    "Revolution 1\n",
    "Honey Pie\n",
    "Savoy Truffle\n",
    "Cry Baby Cry\n",
    "Revolution 9\n",
    "Good Night\n",
    "Yellow Submarine\n",
    "Only A Northern Song\n",
    "All Together Now\n",
    "Hey Bulldog\n",
    "It's All Too Much\n",
    "All You Need Is Love\n",
    "Come Together\n",
    "Something\n",
    "Maxwell's Silver Hammer\n",
    "Oh! Darling\n",
    "Octopus's Garden\n",
    "I Want You (She's So Heavy)\n",
    "Here Comes The Sun\n",
    "Because\n",
    "You Never Give Me Your Money\n",
    "Sun King\n",
    "Mean Mr. Mustard\n",
    "Polythene Pam\n",
    "She Came In Through The Bathroom Window\n",
    "Golden Slumbers\n",
    "Carry That Weight\n",
    "The End\n",
    "Her Majesty\n",
    "Two Of Us\n",
    "Dig a Pony\n",
    "Across The Universe\n",
    "I Me Mine\n",
    "Dig it\n",
    "Let It Be\n",
    "Maggie Mae\n",
    "I've Got A Feeling\n",
    "One After 909\n",
    "The Long And Winding Road\n",
    "For You Blue\n",
    "Get Back\n",
    "Love Me Do\n",
    "From Me To You\n",
    "Thank You Girl\n",
    "She Loves You\n",
    "I'll Get You\n",
    "I Want To Hold Your Hand\n",
    "This Boy\n",
    "Komm, Gib Mir Deine Hand\n",
    "Sie Liebt Dich\n",
    "Long Tall Sally\n",
    "I Call Your Name\n",
    "Slow Down\n",
    "Matchbox\n",
    "I Feel Fine\n",
    "She's A Woman\n",
    "Bad Boy\n",
    "Yes It Is\n",
    "I'm Down\n",
    "Day Tripper\n",
    "We Can Work It Out\n",
    "Paperback Writer\n",
    "Rain\n",
    "Lady Madonna\n",
    "The Inner Light\n",
    "Hey Jude\n",
    "Revolution\n",
    "Get Back\n",
    "Don't Let Me Down\n",
    "The Ballad Of John and Yoko\n",
    "Old Brown Shoe\n",
    "Across The Universe\n",
    "Let It Be\n",
    "You Know My Name (Look Up The Number)\n",
    "\"\"\""
   ]
  },
  {
   "cell_type": "code",
   "execution_count": 7,
   "metadata": {},
   "outputs": [
    {
     "name": "stdout",
     "output_type": "stream",
     "text": [
      "I Saw Her Standing There,\n",
      "Misery,\n",
      "Anna (Go To Him),\n",
      "Chains,\n",
      "Boys,\n",
      "Ask Me Why,\n",
      "Please Please Me,\n",
      "Love Me Do,\n",
      "P.S. I Love You,\n",
      "Baby It's You,\n",
      "Do You Want To Know A Secret?,\n",
      "A Taste Of Honey,\n",
      "There's A Place,\n",
      "Twist And Shout,\n",
      "It Won't Be Long,\n",
      "All I've Got To Do,\n",
      "All My Loving,\n",
      "Don't Bother Me,\n",
      "Little Child,\n",
      "Till There Was You,\n",
      "Please Mister Postman,\n",
      "Roll Over Beethoven,\n",
      "Hold Me Tight,\n",
      "You Really Got A Hold On Me,\n",
      "I Wanna Be Your Man,\n",
      "Devil In Her Heart,\n",
      "Not A Second Time,\n",
      "Money (That's What I Want),\n",
      "A Hard Day's Night,\n",
      "I Should Have Known Better,\n",
      "If I Fell,\n",
      "I'm Happy Just To Dance With You,\n",
      "And I Love Her,\n",
      "Tell Me Why,\n",
      "Can't Buy Me Love,\n",
      "Any Time At All,\n",
      "I'll Cry Instead,\n",
      "Things We Said Today,\n",
      "When I Get Home,\n",
      "You Can't Do That,\n",
      "I'll Be Back,\n",
      "No Reply,\n",
      "I'm A Loser,\n",
      "Baby's In Black,\n",
      "Rock And Roll Music,\n",
      "I'll Follow The Sun,\n",
      "Mr. Moonlight,\n",
      "Kansas City/Hey, Hey, Hey, Hey,\n",
      "Eight Days A Week,\n",
      "Words of Love,\n",
      "Honey Don't,\n",
      "Every Little Thing,\n",
      "I Don't Want To Spoil The Party,\n",
      "What You're Doing,\n",
      "Everybody's Trying To Be My Baby,\n",
      "Help!,\n",
      "The Night Before,\n",
      "You've Got To Hide Your Love Away,\n",
      "I Need You,\n",
      "Another Girl,\n",
      "You're Going to Lose That Girl,\n",
      "Ticket To Ride,\n",
      "Act Naturally,\n",
      "It's Only Love,\n",
      "You Like Me Too Much,\n",
      "Tell Me What You See,\n",
      "I've Just Seen a Face,\n",
      "Yesterday,\n",
      "Dizzy Miss Lizzy,\n",
      "Drive My Car,\n",
      "Norwegian Wood (This Bird Has Flown),\n",
      "You Won't See Me,\n",
      "Nowhere Man,\n",
      "Think For Yourself,\n",
      "The Word,\n",
      "Michelle,\n",
      "What Goes On,\n",
      "Girl,\n",
      "I'm Looking Through You,\n",
      "In My Life,\n",
      "Wait,\n",
      "If I Needed Someone,\n",
      "Run For Your Life,\n",
      "Taxman,\n",
      "Eleanor Rigby,\n",
      "I'm Only Sleeping,\n",
      "Love You To,\n",
      "Here, There And Everywhere,\n",
      "Yellow Submarine,\n",
      "She Said She Said,\n",
      "Good Day Sunshine,\n",
      "And Your Bird Can Sing,\n",
      "For No One,\n",
      "Doctor Robert,\n",
      "I Want To Tell You,\n",
      "Got To Get You Into My Life,\n",
      "Tomorrow Never Knows,\n",
      "Sgt. Pepper's Lonely Hearts Club Band,\n",
      "With A Little Help From My Friends,\n",
      "Lucy In The Sky With Diamonds,\n",
      "Getting Better,\n",
      "Fixing A Hole,\n",
      "She's Leaving Home,\n",
      "Being For The Benefit Of Mr Kite!,\n",
      "Within You Without You,\n",
      "When I'm Sixty-Four,\n",
      "Lovely Rita,\n",
      "Good Morning Good Morning,\n",
      "Sgt. Pepper's Lonely Hearts Club Band (Reprise),\n",
      "A Day In The Life,\n",
      "Magical Mystery Tour,\n",
      "The Fool On The Hill,\n",
      "Flying,\n",
      "Blue Jay Way,\n",
      "Your Mother Should Know,\n",
      "I Am The Walrus,\n",
      "Hello, Goodbye,\n",
      "Strawberry Fields Forever,\n",
      "Penny Lane,\n",
      "Baby You're A Rich Man,\n",
      "All You Need Is Love,\n",
      "Back In The U.S.S.R,\n",
      "Dear Prudence,\n",
      "Glass Onion,\n",
      "Ob-La-Di, Ob-La-Da,\n",
      "Wild Honey Pie,\n",
      "The Continuing Story Of Bungalow Bill,\n",
      "While My Guitar Gently Weeps,\n",
      "Happiness Is A Warm Gun,\n",
      "Martha My Dear,\n",
      "I'm So Tired,\n",
      "Blackbird,\n",
      "Piggies,\n",
      "Rocky Raccoon,\n",
      "Don't Pass Me By,\n",
      "Why Don't We Do It In The Road,\n",
      "I Will,\n",
      "Julia,\n",
      "Birthday,\n",
      "Yer Blues,\n",
      "Mother Nature's Son,\n",
      "Everybody's Got Something To Hide Except Me And My Monkey,\n",
      "Sexy Sadie,\n",
      "Helter Skelter,\n",
      "Long, Long, Long,\n",
      "Revolution 1,\n",
      "Honey Pie,\n",
      "Savoy Truffle,\n",
      "Cry Baby Cry,\n",
      "Revolution 9,\n",
      "Good Night,\n",
      "Yellow Submarine,\n",
      "Only A Northern Song,\n",
      "All Together Now,\n",
      "Hey Bulldog,\n",
      "It's All Too Much,\n",
      "All You Need Is Love,\n",
      "Come Together,\n",
      "Something,\n",
      "Maxwell's Silver Hammer,\n",
      "Oh! Darling,\n",
      "Octopus's Garden,\n",
      "I Want You (She's So Heavy),\n",
      "Here Comes The Sun,\n",
      "Because,\n",
      "You Never Give Me Your Money,\n",
      "Sun King,\n",
      "Mean Mr. Mustard,\n",
      "Polythene Pam,\n",
      "She Came In Through The Bathroom Window,\n",
      "Golden Slumbers,\n",
      "Carry That Weight,\n",
      "The End,\n",
      "Her Majesty,\n",
      "Two Of Us,\n",
      "Dig a Pony,\n",
      "Across The Universe,\n",
      "I Me Mine,\n",
      "Dig it,\n",
      "Let It Be,\n",
      "Maggie Mae,\n",
      "I've Got A Feeling,\n",
      "One After 909,\n",
      "The Long And Winding Road,\n",
      "For You Blue,\n",
      "Get Back,\n",
      "Love Me Do,\n",
      "From Me To You,\n",
      "Thank You Girl,\n",
      "She Loves You,\n",
      "I'll Get You,\n",
      "I Want To Hold Your Hand,\n",
      "This Boy,\n",
      "Komm, Gib Mir Deine Hand,\n",
      "Sie Liebt Dich,\n",
      "Long Tall Sally,\n",
      "I Call Your Name,\n",
      "Slow Down,\n",
      "Matchbox,\n",
      "I Feel Fine,\n",
      "She's A Woman,\n",
      "Bad Boy,\n",
      "Yes It Is,\n",
      "I'm Down,\n",
      "Day Tripper,\n",
      "We Can Work It Out,\n",
      "Paperback Writer,\n",
      "Rain,\n",
      "Lady Madonna,\n",
      "The Inner Light,\n",
      "Hey Jude,\n",
      "Revolution,\n",
      "Get Back,\n",
      "Don't Let Me Down,\n",
      "The Ballad Of John and Yoko,\n",
      "Old Brown Shoe,\n",
      "Across The Universe,\n",
      "Let It Be,\n",
      "You Know My Name (Look Up The Number),\n",
      ",\n"
     ]
    }
   ],
   "source": [
    "#t = t.split('\\n')\n",
    "for x in t:\n",
    "    print(x+',')"
   ]
  },
  {
   "cell_type": "code",
   "execution_count": 1,
   "metadata": {},
   "outputs": [
    {
     "data": {
      "text/plain": [
       "\"<br>In Penny Lane there is a barber showing photographs<br>Of every head he's had the pleasure to have known<br>And all the people that come and go<br>Stop and say hello<br><br>On the corner is a banker with a motorcar<br>The little children laugh at him behind his back<br>And the banker never wears a mac<br>In the pouring rain, very strange<br><br>Penny Lane is in my ears and in my eyes<br>There beneath the blue suburban skies<br>I sit, and meanwhile back<br><br>In Penny Lane there is a fireman with an hourglass<br>And in his pocket is a portrait of the queen<br>He likes to keep his fire engine clean<br>It's a clean machine<br><br>Penny Lane is in my ears and in my eyes<br>A four of fish and finger pies<br>In summer, meanwhile back<br><br>Behind the shelter in the middle of a roundabout<br>The pretty nurse is selling poppies from a tray<br>And though she feels as if she's in a play<br>She is anyway<br><br>In Penny Lane the barber shaves another customer<br>We see the banker sitting waiting for a trim<br>And then the fireman rushes in<br>From the pouring rain, very strange<br><br>Penny Lane is in my ears and in my eyes<br>There beneath the blue suburban skies<br>I sit, and meanwhile back<br>Penny Lane is in my ears and in my eyes<br>There beneath the blue suburban skies<br>Penny Lane<br>\""
      ]
     },
     "execution_count": 1,
     "metadata": {},
     "output_type": "execute_result"
    }
   ],
   "source": [
    "text = \"\"\"\n",
    "In Penny Lane there is a barber showing photographs\n",
    "Of every head he's had the pleasure to have known\n",
    "And all the people that come and go\n",
    "Stop and say hello\n",
    "\n",
    "On the corner is a banker with a motorcar\n",
    "The little children laugh at him behind his back\n",
    "And the banker never wears a mac\n",
    "In the pouring rain, very strange\n",
    "\n",
    "Penny Lane is in my ears and in my eyes\n",
    "There beneath the blue suburban skies\n",
    "I sit, and meanwhile back\n",
    "\n",
    "In Penny Lane there is a fireman with an hourglass\n",
    "And in his pocket is a portrait of the queen\n",
    "He likes to keep his fire engine clean\n",
    "It's a clean machine\n",
    "\n",
    "Penny Lane is in my ears and in my eyes\n",
    "A four of fish and finger pies\n",
    "In summer, meanwhile back\n",
    "\n",
    "Behind the shelter in the middle of a roundabout\n",
    "The pretty nurse is selling poppies from a tray\n",
    "And though she feels as if she's in a play\n",
    "She is anyway\n",
    "\n",
    "In Penny Lane the barber shaves another customer\n",
    "We see the banker sitting waiting for a trim\n",
    "And then the fireman rushes in\n",
    "From the pouring rain, very strange\n",
    "\n",
    "Penny Lane is in my ears and in my eyes\n",
    "There beneath the blue suburban skies\n",
    "I sit, and meanwhile back\n",
    "Penny Lane is in my ears and in my eyes\n",
    "There beneath the blue suburban skies\n",
    "Penny Lane\n",
    "\"\"\"\n",
    "\n",
    "text.replace('\\n','<br>')"
   ]
  },
  {
   "cell_type": "code",
   "execution_count": null,
   "metadata": {},
   "outputs": [],
   "source": []
  },
  {
   "cell_type": "code",
   "execution_count": 1,
   "metadata": {},
   "outputs": [],
   "source": [
    "### LIST OF SCORE PDFs\n",
    "import os, glob, re\n",
    "files = glob.glob('music/scores/*')\n",
    "files = sorted([f.split('/')[-1].split('.pdf')[0] for f in files])"
   ]
  },
  {
   "cell_type": "code",
   "execution_count": 2,
   "metadata": {},
   "outputs": [
    {
     "data": {
      "text/plain": [
       "['A Day In The Life',\n",
       " \"A Hard Day's Night\",\n",
       " 'Across The Universe',\n",
       " 'All My Loving',\n",
       " \"Baby's In Black\",\n",
       " 'Back In The U.S.S.R.',\n",
       " 'Bitrhday',\n",
       " \"Can't Buy Me Love\",\n",
       " 'Come Together',\n",
       " 'Day Tripper',\n",
       " 'Dear Prudence',\n",
       " 'Devil In Her Heart',\n",
       " 'Dig A Pony',\n",
       " 'Dizzy Miss Lizzy',\n",
       " 'Doctor Robert',\n",
       " \"Don't Let Me Down\",\n",
       " 'Drive My Car',\n",
       " \"Everybody's Trying To Be My Baby\",\n",
       " 'Get Back',\n",
       " 'Help!',\n",
       " 'Helter Skelter',\n",
       " 'Here Comes The Sun',\n",
       " 'Hey Bulldog',\n",
       " 'Hold Me Tight',\n",
       " 'I Call Your Name',\n",
       " \"I Don't Want To Spoil The Party\",\n",
       " 'I Feel Fine',\n",
       " 'I Need You',\n",
       " 'I Saw Her Standing There',\n",
       " 'I Should Have Known Better',\n",
       " 'I Wanna Be Your Man',\n",
       " 'I Want To Hold Your Hand',\n",
       " 'I Want You',\n",
       " \"I'll Be Back\",\n",
       " \"I'll Follow The Sun\",\n",
       " \"I'm Down\",\n",
       " \"I'm Happy Just To Dance With You\",\n",
       " \"I've Got A Feeling\",\n",
       " 'If I Fell',\n",
       " 'In My Life',\n",
       " \"It Won't Be Long\",\n",
       " 'Lady Madonna',\n",
       " 'Let It Be',\n",
       " 'Long Tall Sally',\n",
       " 'Love Me Do',\n",
       " 'Magical Mystery Tour',\n",
       " 'Michelle',\n",
       " \"Money (That's What I Want)\",\n",
       " 'No Reply',\n",
       " 'Norwegian Wood',\n",
       " 'Nowhere Man',\n",
       " 'Ob-La-Di Ob-La-Da',\n",
       " \"Octopus's Garden\",\n",
       " 'Oh! Darling',\n",
       " 'Old Brown Shoe',\n",
       " 'One After 909',\n",
       " 'Paperback Writer',\n",
       " 'Penny Lane',\n",
       " 'Please Mister Postman',\n",
       " 'Please Please Me',\n",
       " 'Rain',\n",
       " 'Revolution',\n",
       " 'Roll Over Beethoven',\n",
       " 'Savoy Truffle',\n",
       " \"Sgt. Pepper's Lonely Hearts Club Band\",\n",
       " 'She Loves You',\n",
       " 'She Said She Said',\n",
       " \"She's A Woman\",\n",
       " 'Slow Down',\n",
       " 'Something',\n",
       " 'Taxman',\n",
       " 'Tell Me Why',\n",
       " 'The Night Before',\n",
       " 'Think For Yourself',\n",
       " 'This Boy',\n",
       " 'Ticket To Ride',\n",
       " 'Twist And Shout',\n",
       " 'Two Of Us',\n",
       " 'We Can Work It Out',\n",
       " 'While My Guitar Gently Weeps',\n",
       " 'With A Little Help From My Friends',\n",
       " 'Yes It Is',\n",
       " \"You Can't Do That\",\n",
       " \"You're Going To Lose That Girl\"]"
      ]
     },
     "execution_count": 2,
     "metadata": {},
     "output_type": "execute_result"
    }
   ],
   "source": [
    "files"
   ]
  },
  {
   "cell_type": "code",
   "execution_count": 1,
   "metadata": {},
   "outputs": [
    {
     "ename": "NameError",
     "evalue": "name 'pd' is not defined",
     "output_type": "error",
     "traceback": [
      "\u001b[0;31m---------------------------------------------------------------------------\u001b[0m",
      "\u001b[0;31mNameError\u001b[0m                                 Traceback (most recent call last)",
      "\u001b[1;32m/Users/nozomi/github/nozomiyamada.github.io/thaiword.ipynb Cell 22\u001b[0m in \u001b[0;36m<cell line: 1>\u001b[0;34m()\u001b[0m\n\u001b[0;32m----> <a href='vscode-notebook-cell:/Users/nozomi/github/nozomiyamada.github.io/thaiword.ipynb#X30sZmlsZQ%3D%3D?line=0'>1</a>\u001b[0m pd\u001b[39m.\u001b[39mread_csv(\u001b[39m'\u001b[39m\u001b[39mbeatles.csv\u001b[39m\u001b[39m'\u001b[39m)\n",
      "\u001b[0;31mNameError\u001b[0m: name 'pd' is not defined"
     ]
    }
   ],
   "source": [
    "pd.read_csv('beatles.csv')"
   ]
  },
  {
   "cell_type": "code",
   "execution_count": 14,
   "metadata": {},
   "outputs": [
    {
     "data": {
      "text/plain": [
       "12"
      ]
     },
     "execution_count": 14,
     "metadata": {},
     "output_type": "execute_result"
    }
   ],
   "source": [
    "def num_divisors(n):\n",
    "    count = 0\n",
    "    for i in range(1, n+1):\n",
    "        if n % i == 0:\n",
    "            count += 1\n",
    "    return count\n",
    "\n",
    "num_divisors(60)"
   ]
  },
  {
   "cell_type": "code",
   "execution_count": 15,
   "metadata": {},
   "outputs": [
    {
     "name": "stdout",
     "output_type": "stream",
     "text": [
      "##..#....#"
     ]
    }
   ],
   "source": [
    "def print_divisors(n):\n",
    "    for i in range(1, n+1):\n",
    "        if n % i == 0:\n",
    "            print('#', end='')\n",
    "        else:\n",
    "            print('.', end='')\n",
    "\n",
    "print_divisors(10)"
   ]
  },
  {
   "cell_type": "code",
   "execution_count": 21,
   "metadata": {},
   "outputs": [
    {
     "data": {
      "text/plain": [
       "3"
      ]
     },
     "execution_count": 21,
     "metadata": {},
     "output_type": "execute_result"
    }
   ],
   "source": [
    "def num_common_divisors(numbers):\n",
    "    if len(numbers) == 0:\n",
    "        return 0\n",
    "    else:\n",
    "        count = 0\n",
    "        for i in range(1, min(numbers)+1):\n",
    "            mods = [n % i for n in numbers]\n",
    "            if sum(mods) == 0:\n",
    "                count += 1\n",
    "        return count\n",
    "\n",
    "num_common_divisors([16, 24, 32, 4])\n"
   ]
  },
  {
   "cell_type": "code",
   "execution_count": 4,
   "metadata": {},
   "outputs": [
    {
     "data": {
      "text/plain": [
       "[0, 3, 0, 0]"
      ]
     },
     "execution_count": 4,
     "metadata": {},
     "output_type": "execute_result"
    }
   ],
   "source": [
    "from itertools import product\n",
    "\n",
    "scores = [0,0,0,0]\n",
    "\n",
    "def result(ab_score, a_index, b_index):\n",
    "    if ab_score[0] == ab_score[1]:\n",
    "        scores[a_index] += 1\n",
    "        scores[b_index] += 1\n",
    "    elif ab_score[0] > ab_score[1]:\n",
    "        scores[a_index] += 3\n",
    "    else:\n",
    "        scores[b_index] += 3\n",
    "\n",
    "result( (3, 4), 0, 1)\n",
    "scores"
   ]
  },
  {
   "cell_type": "code",
   "execution_count": 2,
   "metadata": {},
   "outputs": [],
   "source": [
    "import itertools"
   ]
  },
  {
   "cell_type": "code",
   "execution_count": 7,
   "metadata": {},
   "outputs": [
    {
     "name": "stdout",
     "output_type": "stream",
     "text": [
      "[('A', 'A'), ('A', 'C'), ('A', 'B'), ('B', 'C')]\n"
     ]
    }
   ],
   "source": [
    "inputs = ['A','B','C']\n",
    "outputs = set(itertools.combinations(x, 2))\n",
    "outputs = list(outputs)\n",
    "\n",
    "print(outputs)"
   ]
  },
  {
   "cell_type": "code",
   "execution_count": 17,
   "metadata": {},
   "outputs": [
    {
     "data": {
      "text/html": [
       "<div>\n",
       "<style scoped>\n",
       "    .dataframe tbody tr th:only-of-type {\n",
       "        vertical-align: middle;\n",
       "    }\n",
       "\n",
       "    .dataframe tbody tr th {\n",
       "        vertical-align: top;\n",
       "    }\n",
       "\n",
       "    .dataframe thead th {\n",
       "        text-align: right;\n",
       "    }\n",
       "</style>\n",
       "<table border=\"1\" class=\"dataframe\">\n",
       "  <thead>\n",
       "    <tr style=\"text-align: right;\">\n",
       "      <th></th>\n",
       "      <th>fruit</th>\n",
       "      <th>col1</th>\n",
       "      <th>col2</th>\n",
       "    </tr>\n",
       "  </thead>\n",
       "  <tbody>\n",
       "    <tr>\n",
       "      <th>0</th>\n",
       "      <td>りんご</td>\n",
       "      <td>1</td>\n",
       "      <td>1.0</td>\n",
       "    </tr>\n",
       "    <tr>\n",
       "      <th>1</th>\n",
       "      <td>みかん</td>\n",
       "      <td>3</td>\n",
       "      <td>NaN</td>\n",
       "    </tr>\n",
       "    <tr>\n",
       "      <th>2</th>\n",
       "      <td>いちご</td>\n",
       "      <td>2</td>\n",
       "      <td>1.0</td>\n",
       "    </tr>\n",
       "  </tbody>\n",
       "</table>\n",
       "</div>"
      ],
      "text/plain": [
       "  fruit  col1  col2\n",
       "0   りんご     1   1.0\n",
       "1   みかん     3   NaN\n",
       "2   いちご     2   1.0"
      ]
     },
     "execution_count": 17,
     "metadata": {},
     "output_type": "execute_result"
    }
   ],
   "source": [
    "import pandas as pd\n",
    "\n",
    "df1 = pd.DataFrame({'fruit':['りんご','みかん','いちご'],'col1':[1,3,2]})\n",
    "df2 = pd.DataFrame({'fruit':['りんご','いちご']})\n",
    "df2['col2'] = 1\n",
    "\n",
    "df3 = pd.merge(df1, df2, how='left', on='fruit')\n",
    "df3"
   ]
  },
  {
   "cell_type": "code",
   "execution_count": 18,
   "metadata": {},
   "outputs": [
    {
     "data": {
      "text/html": [
       "<div>\n",
       "<style scoped>\n",
       "    .dataframe tbody tr th:only-of-type {\n",
       "        vertical-align: middle;\n",
       "    }\n",
       "\n",
       "    .dataframe tbody tr th {\n",
       "        vertical-align: top;\n",
       "    }\n",
       "\n",
       "    .dataframe thead th {\n",
       "        text-align: right;\n",
       "    }\n",
       "</style>\n",
       "<table border=\"1\" class=\"dataframe\">\n",
       "  <thead>\n",
       "    <tr style=\"text-align: right;\">\n",
       "      <th></th>\n",
       "      <th>fruit</th>\n",
       "      <th>col1</th>\n",
       "      <th>col2</th>\n",
       "    </tr>\n",
       "  </thead>\n",
       "  <tbody>\n",
       "    <tr>\n",
       "      <th>0</th>\n",
       "      <td>りんご</td>\n",
       "      <td>1</td>\n",
       "      <td>1.0</td>\n",
       "    </tr>\n",
       "    <tr>\n",
       "      <th>1</th>\n",
       "      <td>みかん</td>\n",
       "      <td>3</td>\n",
       "      <td>0.0</td>\n",
       "    </tr>\n",
       "    <tr>\n",
       "      <th>2</th>\n",
       "      <td>いちご</td>\n",
       "      <td>2</td>\n",
       "      <td>1.0</td>\n",
       "    </tr>\n",
       "  </tbody>\n",
       "</table>\n",
       "</div>"
      ],
      "text/plain": [
       "  fruit  col1  col2\n",
       "0   りんご     1   1.0\n",
       "1   みかん     3   0.0\n",
       "2   いちご     2   1.0"
      ]
     },
     "execution_count": 18,
     "metadata": {},
     "output_type": "execute_result"
    }
   ],
   "source": [
    "df3 = df3.fillna(0)\n",
    "df3"
   ]
  },
  {
   "cell_type": "code",
   "execution_count": 49,
   "metadata": {},
   "outputs": [],
   "source": [
    "import numpy as np\n",
    "import matplotlib.pyplot as plt\n",
    "\n",
    "\n",
    "def circles(r, n:int):\n",
    "    plt.figure(figsize=(10, 10))\n",
    "    thetas = np.linspace(0, 2*np.pi, 50)\n",
    "    for i in range(1, n+1):\n",
    "        x = (i * r / n) * np.cos(thetas) + 500\n",
    "        y = (i * r / n) * np.sin(thetas) + 500\n",
    "        if i % 2 == 0:\n",
    "            color = 'blue'\n",
    "        else:\n",
    "            color = 'red'\n",
    "        plt.plot(x, y, c=color)\n",
    "    plt.xlim([0, 1000])\n",
    "    plt.ylim([0, 1000])"
   ]
  },
  {
   "cell_type": "code",
   "execution_count": 52,
   "metadata": {},
   "outputs": [
    {
     "data": {
      "image/png": "[encoded data removed]",
      "text/plain": [
       "<Figure size 720x720 with 1 Axes>"
      ]
     },
     "metadata": {
      "needs_background": "light"
     },
     "output_type": "display_data"
    }
   ],
   "source": [
    "circles(400, 6)"
   ]
  },
  {
   "cell_type": "code",
   "execution_count": 54,
   "metadata": {},
   "outputs": [
    {
     "data": {
      "text/html": [
       "<div>\n",
       "<style scoped>\n",
       "    .dataframe tbody tr th:only-of-type {\n",
       "        vertical-align: middle;\n",
       "    }\n",
       "\n",
       "    .dataframe tbody tr th {\n",
       "        vertical-align: top;\n",
       "    }\n",
       "\n",
       "    .dataframe thead th {\n",
       "        text-align: right;\n",
       "    }\n",
       "</style>\n",
       "<table border=\"1\" class=\"dataframe\">\n",
       "  <thead>\n",
       "    <tr style=\"text-align: right;\">\n",
       "      <th></th>\n",
       "      <th>1</th>\n",
       "      <th>2</th>\n",
       "      <th>3</th>\n",
       "      <th>4</th>\n",
       "      <th>5</th>\n",
       "      <th>6</th>\n",
       "      <th>7</th>\n",
       "      <th>8</th>\n",
       "      <th>9</th>\n",
       "    </tr>\n",
       "  </thead>\n",
       "  <tbody>\n",
       "    <tr>\n",
       "      <th>1</th>\n",
       "      <td>1</td>\n",
       "      <td>2</td>\n",
       "      <td>3</td>\n",
       "      <td>4</td>\n",
       "      <td>5</td>\n",
       "      <td>6</td>\n",
       "      <td>7</td>\n",
       "      <td>8</td>\n",
       "      <td>9</td>\n",
       "    </tr>\n",
       "    <tr>\n",
       "      <th>2</th>\n",
       "      <td>2</td>\n",
       "      <td>4</td>\n",
       "      <td>6</td>\n",
       "      <td>8</td>\n",
       "      <td>10</td>\n",
       "      <td>12</td>\n",
       "      <td>14</td>\n",
       "      <td>16</td>\n",
       "      <td>18</td>\n",
       "    </tr>\n",
       "    <tr>\n",
       "      <th>3</th>\n",
       "      <td>3</td>\n",
       "      <td>6</td>\n",
       "      <td>9</td>\n",
       "      <td>12</td>\n",
       "      <td>15</td>\n",
       "      <td>18</td>\n",
       "      <td>21</td>\n",
       "      <td>24</td>\n",
       "      <td>27</td>\n",
       "    </tr>\n",
       "    <tr>\n",
       "      <th>4</th>\n",
       "      <td>4</td>\n",
       "      <td>8</td>\n",
       "      <td>12</td>\n",
       "      <td>16</td>\n",
       "      <td>20</td>\n",
       "      <td>24</td>\n",
       "      <td>28</td>\n",
       "      <td>32</td>\n",
       "      <td>36</td>\n",
       "    </tr>\n",
       "    <tr>\n",
       "      <th>5</th>\n",
       "      <td>5</td>\n",
       "      <td>10</td>\n",
       "      <td>15</td>\n",
       "      <td>20</td>\n",
       "      <td>25</td>\n",
       "      <td>30</td>\n",
       "      <td>35</td>\n",
       "      <td>40</td>\n",
       "      <td>45</td>\n",
       "    </tr>\n",
       "    <tr>\n",
       "      <th>6</th>\n",
       "      <td>6</td>\n",
       "      <td>12</td>\n",
       "      <td>18</td>\n",
       "      <td>24</td>\n",
       "      <td>30</td>\n",
       "      <td>36</td>\n",
       "      <td>42</td>\n",
       "      <td>48</td>\n",
       "      <td>54</td>\n",
       "    </tr>\n",
       "    <tr>\n",
       "      <th>7</th>\n",
       "      <td>7</td>\n",
       "      <td>14</td>\n",
       "      <td>21</td>\n",
       "      <td>28</td>\n",
       "      <td>35</td>\n",
       "      <td>42</td>\n",
       "      <td>49</td>\n",
       "      <td>56</td>\n",
       "      <td>63</td>\n",
       "    </tr>\n",
       "    <tr>\n",
       "      <th>8</th>\n",
       "      <td>8</td>\n",
       "      <td>16</td>\n",
       "      <td>24</td>\n",
       "      <td>32</td>\n",
       "      <td>40</td>\n",
       "      <td>48</td>\n",
       "      <td>56</td>\n",
       "      <td>64</td>\n",
       "      <td>72</td>\n",
       "    </tr>\n",
       "    <tr>\n",
       "      <th>9</th>\n",
       "      <td>9</td>\n",
       "      <td>18</td>\n",
       "      <td>27</td>\n",
       "      <td>36</td>\n",
       "      <td>45</td>\n",
       "      <td>54</td>\n",
       "      <td>63</td>\n",
       "      <td>72</td>\n",
       "      <td>81</td>\n",
       "    </tr>\n",
       "  </tbody>\n",
       "</table>\n",
       "</div>"
      ],
      "text/plain": [
       "   1   2   3   4   5   6   7   8   9\n",
       "1  1   2   3   4   5   6   7   8   9\n",
       "2  2   4   6   8  10  12  14  16  18\n",
       "3  3   6   9  12  15  18  21  24  27\n",
       "4  4   8  12  16  20  24  28  32  36\n",
       "5  5  10  15  20  25  30  35  40  45\n",
       "6  6  12  18  24  30  36  42  48  54\n",
       "7  7  14  21  28  35  42  49  56  63\n",
       "8  8  16  24  32  40  48  56  64  72\n",
       "9  9  18  27  36  45  54  63  72  81"
      ]
     },
     "execution_count": 54,
     "metadata": {},
     "output_type": "execute_result"
    }
   ],
   "source": [
    "import numpy as np\n",
    "import pandas as pd\n",
    "\n",
    "labels = np.arange(1,10)\n",
    "df = pd.DataFrame(columns=labels, index=labels)\n",
    "for i in labels:\n",
    "    df[i] = i * labels\n",
    "df"
   ]
  },
  {
   "cell_type": "code",
   "execution_count": 58,
   "metadata": {},
   "outputs": [
    {
     "data": {
      "text/plain": [
       "True"
      ]
     },
     "execution_count": 58,
     "metadata": {},
     "output_type": "execute_result"
    }
   ],
   "source": [
    "from sympy import sieve\n",
    "13 in sieve"
   ]
  },
  {
   "cell_type": "code",
   "execution_count": 59,
   "metadata": {},
   "outputs": [],
   "source": [
    "a = input()\n"
   ]
  },
  {
   "cell_type": "code",
   "execution_count": 61,
   "metadata": {},
   "outputs": [
    {
     "data": {
      "text/plain": [
       "100"
      ]
     },
     "execution_count": 61,
     "metadata": {},
     "output_type": "execute_result"
    }
   ],
   "source": [
    "int(a)"
   ]
  },
  {
   "cell_type": "code",
   "execution_count": null,
   "metadata": {},
   "outputs": [],
   "source": []
  }
 ],
 "metadata": {
  "file_extension": ".py",
  "kernelspec": {
   "display_name": "Python 3.9.13 64-bit",
   "language": "python",
   "name": "python3"
  },
  "language_info": {
   "codemirror_mode": {
    "name": "ipython",
    "version": 3
   },
   "file_extension": ".py",
   "mimetype": "text/x-python",
   "name": "python",
   "nbconvert_exporter": "python",
   "pygments_lexer": "ipython3",
   "version": "3.9.13"
  },
  "mimetype": "text/x-python",
  "name": "python",
  "npconvert_exporter": "python",
  "orig_nbformat": 2,
  "pygments_lexer": "ipython3",
  "version": 3,
  "vscode": {
   "interpreter": {
    "hash": "aee8b7b246df8f9039afb4144a1f6fd8d2ca17a180786b69acc140d282b71a49"
   }
  }
 },
 "nbformat": 4,
 "nbformat_minor": 2
}
